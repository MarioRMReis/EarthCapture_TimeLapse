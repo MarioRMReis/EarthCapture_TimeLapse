{
  "nbformat": 4,
  "nbformat_minor": 0,
  "metadata": {
    "colab": {
      "provenance": [],
      "authorship_tag": "ABX9TyNfHpuo5inxDPEoH4qixVC/",
      "include_colab_link": true
    },
    "kernelspec": {
      "name": "python3",
      "display_name": "Python 3"
    },
    "language_info": {
      "name": "python"
    }
  },
  "cells": [
    {
      "cell_type": "markdown",
      "metadata": {
        "id": "view-in-github",
        "colab_type": "text"
      },
      "source": [
        "<a href=\"https://colab.research.google.com/github/MarioRMReis/Sentinel_Images/blob/main/EE_ImageRequest.ipynb\" target=\"_parent\"><img src=\"https://colab.research.google.com/assets/colab-badge.svg\" alt=\"Open In Colab\"/></a>"
      ]
    },
    {
      "cell_type": "markdown",
      "source": [
        "# Import the required libraries"
      ],
      "metadata": {
        "id": "HowUp86goEYi"
      }
    },
    {
      "cell_type": "code",
      "source": [
        "import matplotlib.pyplot as plt\n",
        "import numpy as np\n",
        "from scipy.stats import norm, gamma, f, chi2\n",
        "import IPython.display as disp\n",
        "import geemap\n",
        "import os\n",
        "import cv2\n",
        "import requests\n",
        "import math\n",
        "from pykml import parser\n",
        "%matplotlib inline"
      ],
      "metadata": {
        "id": "eFRcsT87oDjZ"
      },
      "execution_count": 1,
      "outputs": []
    },
    {
      "cell_type": "markdown",
      "source": [
        "# Log-in into Earth Engine"
      ],
      "metadata": {
        "id": "YGQnEhjdn8Ep"
      }
    },
    {
      "cell_type": "code",
      "execution_count": 2,
      "metadata": {
        "id": "KPjeYedunwJ8",
        "colab": {
          "base_uri": "https://localhost:8080/",
          "height": 200
        },
        "outputId": "f188c9b9-36f9-45fd-a9e5-d2c56e12d0a1"
      },
      "outputs": [
        {
          "output_type": "display_data",
          "data": {
            "text/plain": [
              "<IPython.core.display.HTML object>"
            ],
            "text/html": [
              "<p>To authorize access needed by Earth Engine, open the following\n",
              "        URL in a web browser and follow the instructions:</p>\n",
              "        <p><a href=https://code.earthengine.google.com/client-auth?scopes=https%3A//www.googleapis.com/auth/earthengine%20https%3A//www.googleapis.com/auth/devstorage.full_control&request_id=J0gbVb_N4l1CvU35hA_L28oijp4csIcZxuIURMWIrVA&tc=pEhIaJWUDukt3YiXeM7MI99XIMIs0jE0bz4-NwvsQ6c&cc=I9KR3v43O54NwytKKtVxrrtI8kpyYAUdhNrS6AnNpMM>https://code.earthengine.google.com/client-auth?scopes=https%3A//www.googleapis.com/auth/earthengine%20https%3A//www.googleapis.com/auth/devstorage.full_control&request_id=J0gbVb_N4l1CvU35hA_L28oijp4csIcZxuIURMWIrVA&tc=pEhIaJWUDukt3YiXeM7MI99XIMIs0jE0bz4-NwvsQ6c&cc=I9KR3v43O54NwytKKtVxrrtI8kpyYAUdhNrS6AnNpMM</a></p>\n",
              "        <p>The authorization workflow will generate a code, which you should paste in the box below.</p>\n",
              "        "
            ]
          },
          "metadata": {}
        },
        {
          "output_type": "stream",
          "name": "stdout",
          "text": [
            "Enter verification code: 4/1AWtgzh7WvGeuLUrr4tIHl2a-oxMCAQHPrWcife0C2JW2Rbxif3Xb5zv322o\n",
            "\n",
            "Successfully saved authorization token.\n"
          ]
        }
      ],
      "source": [
        "import ee\n",
        "# Trigger the authentication flow.\n",
        "ee.Authenticate()\n",
        " \n",
        "# Initialize the library.\n",
        "ee.Initialize()"
      ]
    },
    {
      "cell_type": "markdown",
      "source": [
        "# Parameters for the image request (C: drive path, Starting data, Ending date, Max number of images)"
      ],
      "metadata": {
        "id": "tKWKG52doBZo"
      }
    },
    {
      "cell_type": "code",
      "source": [
        "C_drivePath = 'C:/Users/mario/Documents/Mario/'\n",
        "folder_dataset = C_drivePath + 'Sentinel/dataset'\n",
        "starting_date = '2017-01-01'\n",
        "ending_date = '2023-12-31'\n",
        "nimgs = 2190"
      ],
      "metadata": {
        "id": "7rePzoJOoYoV"
      },
      "execution_count": 3,
      "outputs": []
    },
    {
      "cell_type": "markdown",
      "source": [
        "# Read KML files and extract all regions of interest "
      ],
      "metadata": {
        "id": "_T986WywpEh6"
      }
    },
    {
      "cell_type": "code",
      "source": [
        "aoi = []\n",
        "aoi_names = []\n",
        "kml_files = os.listdir(C_drivePath + 'Sentinel/roi/')\n",
        "\n",
        "for kml in kml_files:\n",
        "  with open(C_drivePath + 'Sentinel/roi/' + kml, 'r') as f:\n",
        "    root = parser.parse(f).getroot()\n",
        "  namespace = {\"kml\": 'http://www.opengis.net/kml/2.2'}\n",
        "  pms = root.xpath(\".//kml:Placemark[.//kml:Polygon]\", namespaces=namespace)\n",
        "  roi_string = []\n",
        "  for p in pms:\n",
        "    if hasattr(p, 'MultiGeometry'):\n",
        "      for poly in p.MultiGeometry.Polygon:\n",
        "        roi_string.append(poly.outerBoundaryIs.LinearRing.coordinates)\n",
        "    else:\n",
        "      roi_string.append(p.Polygon.outerBoundaryIs.LinearRing.coordinates)\n",
        "\n",
        "  dot = kml_files[0].find('.')\n",
        "  name_kml = kml_files[0][:dot] + '-'\n",
        "  for jdx, r in enumerate(roi_string):\n",
        "    aoi_names.append(name_kml + str(jdx))\n",
        "    roi_str = str(r).split(' ')\n",
        "    aux = []\n",
        "    for idx, rs in enumerate(roi_str):\n",
        "      if idx == 0:\n",
        "        n = rs[7::].split(',')\n",
        "        aux.append([float(n[i]) for i in range(len(n)-1)])\n",
        "      elif idx == (len(roi_str)-1): \n",
        "        print(rs)\n",
        "      else:\n",
        "        n = rs.split(',')\n",
        "        aux.append([float(n[i]) for i in range(len(n)-1)])\n",
        "    aoi.append([aux])"
      ],
      "metadata": {
        "id": "2Rz5m0AypEp3",
        "colab": {
          "base_uri": "https://localhost:8080/"
        },
        "outputId": "f1a39855-384b-4732-f517-6ef8d0169f7d"
      },
      "execution_count": 5,
      "outputs": [
        {
          "output_type": "stream",
          "name": "stdout",
          "text": [
            "\n",
            "\t\t\t\t\t\n",
            "\n",
            "\t\t\t\t\t\n"
          ]
        }
      ]
    },
    {
      "cell_type": "markdown",
      "source": [
        "# Get the fitted Area Of Interest for a 128x128 \n",
        "> The aoi will be at the center of the 128x128 image\n",
        "\n"
      ],
      "metadata": {
        "id": "gxFbWuilUFew"
      }
    },
    {
      "cell_type": "code",
      "source": [
        "def get_squares(aois):\n",
        "    # 0.011377373345324189 0.014894925631009616 -> Height, Width\n",
        "    S128 = [0.014854925631009616, 0.011377373345324189]\n",
        "    new_aois = []\n",
        "    h_aux = S128[1]/2\n",
        "    w_aux = S128[0]/2\n",
        "\n",
        "    for aoi in aois:\n",
        "      # Find centeroid ----------------------------\n",
        "      siz = len(aoi[0])\n",
        "      list_width = []\n",
        "      list_height = []\n",
        "      for i in range(siz): \n",
        "        list_width.append(aoi[0][i][0])\n",
        "        list_height.append(aoi[0][i][1])\n",
        "\n",
        "      max_width = max(list_width)\n",
        "      min_width = min(list_width)\n",
        "      max_height = max(list_height)\n",
        "      min_height = min(list_height)\n",
        "      \n",
        "      centroid_width = (max_width+min_width)/2\n",
        "      centroid_height = (max_height+min_height)/2\n",
        "\n",
        "      aoi_new = [[[(centroid_width-w_aux), (centroid_height+h_aux)], [(centroid_width-w_aux), (centroid_height-h_aux)], [(centroid_width+w_aux), (centroid_height-h_aux)], [(centroid_width+w_aux), (centroid_height+h_aux)]]]\n",
        "      #inside, split_aois = check_if_inside(aoi_new, aoi)\n",
        "      #if inside:\n",
        "      new_aois.append(aoi_new)\n",
        "      size = [128,128]\n",
        "      #else:\n",
        "        #for saois in split_aois:\n",
        "          #new_aois.append(saois)\n",
        "\n",
        "      \n",
        "      #ans = image_ratio(S128, [list_width, list_height])\n",
        "    return new_aois, size"
      ],
      "metadata": {
        "id": "FZknzGlGUd2x"
      },
      "execution_count": 6,
      "outputs": []
    },
    {
      "cell_type": "markdown",
      "source": [
        "# For all AOIs Create the mask and save it in the mask folder for the aoi"
      ],
      "metadata": {
        "id": "c1r2AB24sRQ-"
      }
    },
    {
      "cell_type": "code",
      "source": [
        "def get_mask(path, aoi, size):\n",
        "  # Inputs:\n",
        "  #     - path -> path to the aoi saved images\n",
        "  #     - aoi -> Area of interest of the landfield\n",
        "  #     - size = [sizeX, sizeY] -> size of the mask, (ie: 128x128, 256x256, 354x128...)\n",
        "  aoi_mask = ee.Geometry.Polygon(aoi,None,False)\n",
        "  ffa_s2 = ee.ImageCollection('COPERNICUS/S2') \\\n",
        "                        .filterBounds(aoi_mask) \\\n",
        "                        .filterDate(ee.Date('2017-01-01'), ee.Date('2023-12-31'))\n",
        "  colList = ffa_s2.toList(30)\n",
        "  # This part get's the land area image needed to create the mask --------------\n",
        "  img = ee.Image(colList.get(17)).double().clip(aoi_mask)\n",
        "  rgb = ['B4','B3','B2']\n",
        "  url = img.getThumbURL({\"min\":-200000, \"max\":-200000,\"bands\":rgb})\n",
        "\n",
        "  img_data = requests.get(url).content\n",
        "  try:\n",
        "    os.makedirs(path + '/Mask')\n",
        "    id = img.id().getInfo()\n",
        "    with open(path + '/Mask/mask_aux.jpg', 'wb') as handler:\n",
        "      handler.write(img_data)\n",
        "  except:\n",
        "    id = img.id().getInfo()\n",
        "    with open(path + '/Mask/mask_aux.jpg', 'wb') as handler:\n",
        "      handler.write(img_data)\n",
        "\n",
        "  # load the saved image -------------------------------------------------------\n",
        "  img_aux = cv2.imread(path + '/Mask/mask_aux.jpg')\n",
        "  img_zeros = np.zeros([128, 128, 3])\n",
        "\n",
        "  # Create mask ----------------------------------------------------------------\n",
        "  # img_aux.shape -> [x,y,z]\n",
        "  x = img_aux.shape[0]\n",
        "  y = img_aux.shape[1]\n",
        "  x_sum = math.ceil((size[0]-x)/2)\n",
        "  y_sum = math.ceil((size[1]-y)/2)\n",
        "\n",
        "  img_zeros = np.zeros([size[0], size[1], 3])\n",
        "  img_zeros[x_sum:(x_sum+x), y_sum:(y_sum+y), :] = img_aux\n",
        "\n",
        "  cv2.imwrite(path +'/Mask/mask.jpg', img_zeros)\n"
      ],
      "metadata": {
        "id": "TSZnVmT8RyRG"
      },
      "execution_count": 15,
      "outputs": []
    },
    {
      "cell_type": "code",
      "source": [
        "aoi_square, size =  get_squares(aoi)\n",
        "for idx, a in enumerate(aoi):\n",
        "  path = folder_dataset + '/' + aoi_names[idx]\n",
        "  get_mask(path, a, size)"
      ],
      "metadata": {
        "id": "-enu_OJVsb4i"
      },
      "execution_count": 16,
      "outputs": []
    },
    {
      "cell_type": "markdown",
      "source": [
        "# Extract Images from Sentinel-1"
      ],
      "metadata": {
        "id": "gIMJ1nFQVK99"
      }
    },
    {
      "cell_type": "code",
      "source": [
        "def ExportCol_Sentinel1(path, roi, channel, min, max, n):\n",
        "  try:\n",
        "    for i in range(0,nimgs,1):\n",
        "      aoi_geometry = ee.Geometry.Polygon(roi ,None,False)\n",
        "      ffa_s = ee.ImageCollection('COPERNICUS/S1_GRD') \\\n",
        "                        .filterBounds(aoi_geometry) \\\n",
        "                        .filterDate(ee.Date(starting_date), ee.Date(ending_date))\n",
        "\n",
        "      colList = ffa_s.toList(nimgs); \n",
        "\n",
        "      img = ee.Image(colList.get(i)).double().clip(aoi_geometry)\n",
        "      # Exeption beacause to get a RGB channel with the Sentinel-1 we need to correspond each channel and compute the last\n",
        "      if channel == 'RGB':\n",
        "        imgR = img.select('VV')\n",
        "        imgG = img.select('VH')\n",
        "        imgB = img.select('VV').divide(img.select('VH'))\n",
        "        url = ee.Image.rgb(imgR,imgG,imgB).getThumbURL({'min': [min[0], min[1], 0], 'max': [0, 0, 2]})\n",
        "      else:\n",
        "        url = img.select(channel).getThumbURL({'min': min[n], 'max': max[n]})\n",
        "\n",
        "      id = img.id().getInfo()\n",
        "      img_data = requests.get(url).content\n",
        "\n",
        "      # Creates the folder but the flag need to be turned off beacause it will try to makedir after the creation\n",
        "      try:\n",
        "        os.makedirs(path)\n",
        "        with open(path + '/' + id +'.jpg', 'wb') as handler:\n",
        "          handler.write(img_data)\n",
        "          #create_folders = False\n",
        "      except:\n",
        "        # This just saves the image in the correct folder with the name 'id' (var->'id')\n",
        "        with open(path + '/' + id +'.jpg', 'wb') as handler:\n",
        "          handler.write(img_data)\n",
        "  except:\n",
        "    return"
      ],
      "metadata": {
        "id": "iW0CpytsVVwn"
      },
      "execution_count": 20,
      "outputs": []
    },
    {
      "cell_type": "markdown",
      "source": [
        "\n",
        "\n",
        "> The request of the images from Sentinel-1 all aoi's \n",
        "\n"
      ],
      "metadata": {
        "id": "1-EWP1JCVqIE"
      }
    },
    {
      "cell_type": "code",
      "source": [
        "aoi_bands = ee.Geometry.Polygon(aoi[0],None,False)\n",
        "\n",
        "ffa_db = ee.Image(ee.ImageCollection('COPERNICUS/S1_GRD') \n",
        "                       .filterBounds(aoi_bands) \n",
        "                       .filterDate(ee.Date('2019-01-01'), ee.Date('2019-12-31')) \n",
        "                       .first() \n",
        "                       .clip(aoi_bands))\n",
        "\n",
        "# Variables needed to save images\n",
        "bands_s1 = ffa_db.bandNames().getInfo()\n",
        "bands_s1.remove('angle')\n",
        "bands_s1.append('RGB')\n",
        "\n",
        "# Defined values to be the best for these bands\n",
        "min = [-14, -25]\n",
        "max = [-7] * 2\n",
        "#-------------------\n",
        "for idx, a in enumerate(aoi_square):\n",
        "  for jdx, b in enumerate(bands_s1):\n",
        "    path = folder_dataset +'/'+ aoi_names[idx] +'/'+ 'Sentinel-1/' + b\n",
        "    ExportCol_Sentinel1(path, a, b, min, max, jdx)"
      ],
      "metadata": {
        "id": "d2sqpcu5VpsC"
      },
      "execution_count": 21,
      "outputs": []
    },
    {
      "cell_type": "markdown",
      "source": [
        "# Extract images from Sentinel-2"
      ],
      "metadata": {
        "id": "dmZZpVaeWs9P"
      }
    },
    {
      "cell_type": "code",
      "source": [
        "def ExportCol_Sentinel2(path, roi, channel,  min, max, n):\n",
        "  for i in range(0,nimgs,1):\n",
        "    try:\n",
        "      aoi_geometry = ee.Geometry.Polygon(roi ,None,False)\n",
        "      ffa_s = ee.ImageCollection('COPERNICUS/S2') \\\n",
        "                        .filterBounds(aoi_geometry) \\\n",
        "                        .filterDate(ee.Date(starting_date), ee.Date(ending_date))\n",
        "\n",
        "      colList = ffa_s.toList(ffa_s.size());                   \n",
        "\n",
        "      img = ee.Image(colList.get(i)).double().clip(aoi_geometry)\n",
        "      # Exeption beacause to get a RGB channel with the Sentinel-1 we need to correspond each channel and compute the last\n",
        "      if channel == 'RGB':\n",
        "        rgb = ['B4','B3','B2']\n",
        "        url = img.getThumbURL({\"min\":min[n], \"max\":max[n],\"bands\":rgb})\n",
        "      else:\n",
        "        url = img.getThumbURL({\"min\":min[n], \"max\":max[n],\"bands\":channel})\n",
        "\n",
        "      id = img.id().getInfo()\n",
        "      img_data = requests.get(url).content\n",
        "\n",
        "      # Creates the folder but the flag need to be turned off beacause it will try to makedir after the creation\n",
        "      try:\n",
        "        os.makedirs(path)\n",
        "        with open(path + '/' + id +'.jpg', 'wb') as handler:\n",
        "          handler.write(img_data)\n",
        "      except:\n",
        "        # This just saves the image in the correct folder with the name 'id' (var->'id')\n",
        "        with open(path + '/' + id +'.jpg', 'wb') as handler:\n",
        "          handler.write(img_data)\n",
        "    except:\n",
        "      return"
      ],
      "metadata": {
        "id": "nhakoLQRW3Jj"
      },
      "execution_count": null,
      "outputs": []
    },
    {
      "cell_type": "markdown",
      "source": [
        "\n",
        "\n",
        "> The request, cloud coverage < 20% \n",
        "\n"
      ],
      "metadata": {
        "id": "Z48Te4gmXAa3"
      }
    },
    {
      "cell_type": "code",
      "source": [
        "aoi_bands = ee.Geometry.Polygon(aoi[0],None,False)\n",
        "\n",
        "ffa_s2 = ee.Image(ee.ImageCollection('COPERNICUS/S2') \n",
        "                       .filterBounds(aoi_bands) \n",
        "                       .filterDate(ee.Date('2017-01-01'), ee.Date('2023-12-31')) \n",
        "                       .first() \n",
        "                       .clip(aoi_bands))\n",
        "\n",
        "bands_s2 = ffa_s2.bandNames().getInfo()\n",
        "aux_bands_s2 =  bands_s2.copy();\n",
        "for x in aux_bands_s2: \n",
        "  if x in  ['QA10','QA20','QA60','B10']: \n",
        "    bands_s2.remove(x) #bands_s2.remove(['QA10','QA20','QA60','B10'])\n",
        "bands_s2.append('RGB')\n",
        "\n",
        "# Defined best values for these bands\n",
        "min = [0] * len(bands_s2)\n",
        "max = [2700, 3000, 3000, 3000, 3000, 3000, 3000, 3000, 3000, 2000, 3200, 2500, 3000]\n",
        "\n",
        "for idx, a in enumerate(aoi_square):\n",
        "  for jdx, b in enumerate(bands_s2):\n",
        "    path = folder_dataset +'/'+ aoi_names[idx] +'/'+ 'Sentinel-2/' + b\n",
        "    ExportCol_Sentinel2(path, a, b, min, max, jdx)"
      ],
      "metadata": {
        "id": "Y5iwvvckXMYk"
      },
      "execution_count": null,
      "outputs": []
    }
  ]
}