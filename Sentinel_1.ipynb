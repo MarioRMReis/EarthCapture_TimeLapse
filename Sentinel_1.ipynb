{
  "nbformat": 4,
  "nbformat_minor": 0,
  "metadata": {
    "colab": {
      "provenance": [],
      "include_colab_link": true
    },
    "kernelspec": {
      "name": "python3",
      "display_name": "Python 3"
    }
  },
  "cells": [
    {
      "cell_type": "markdown",
      "metadata": {
        "id": "view-in-github",
        "colab_type": "text"
      },
      "source": [
        "<a href=\"https://colab.research.google.com/github/MarioRMReis/Sentinel_Images/blob/main/Sentinel_1.ipynb\" target=\"_parent\"><img src=\"https://colab.research.google.com/assets/colab-badge.svg\" alt=\"Open In Colab\"/></a>"
      ]
    },
    {
      "cell_type": "markdown",
      "metadata": {
        "id": "U7i55vr_aKCB"
      },
      "source": [
        "### Run me first\n",
        "Run this cell to install packages if missing.\n",
        "Run the next cell to initialize the API. The output will contain instructions on how to grant this notebook access to Earth Engine using your account."
      ]
    },
    {
      "cell_type": "markdown",
      "source": [
        "Run colab locally.\n",
        "\n",
        " - pip install jupyter_http_over_ws  \n",
        " - jupyter serverextension enable --py jupyter_http_over_ws\n",
        " - jupyter notebook --NotebookApp.allow_origin='https://colab.research.google.com' --port=8888 --NotebookApp.port_retries=0"
      ],
      "metadata": {
        "id": "RlJKoiEn05WS"
      }
    },
    {
      "cell_type": "code",
      "source": [
        "!pip install pykml\n",
        "!pip install fastkml\n",
        "!pip install geopandas\n",
        "!pip intall fiona\n",
        "!pip install ogr\n",
        "!pip install fastkml\n",
        "!pip install geemap"
      ],
      "metadata": {
        "id": "i1TzBVe7mzY2"
      },
      "execution_count": null,
      "outputs": []
    },
    {
      "cell_type": "code",
      "source": [
        "from google.colab import drive\n",
        "drive.mount('/content/drive')"
      ],
      "metadata": {
        "id": "WkycAeSX0HDC"
      },
      "execution_count": null,
      "outputs": []
    },
    {
      "cell_type": "code",
      "metadata": {
        "id": "XeFsiSp2aDL6",
        "outputId": "2a8e251c-d831-44ad-9b32-657cdf05497b",
        "colab": {
          "base_uri": "https://localhost:8080/",
          "height": 163
        }
      },
      "source": [
        "import ee\n",
        "# Trigger the authentication flow.\n",
        "ee.Authenticate()\n",
        " \n",
        "# Initialize the library.\n",
        "ee.Initialize()"
      ],
      "execution_count": 5,
      "outputs": [
        {
          "output_type": "display_data",
          "data": {
            "text/plain": [
              "<IPython.core.display.HTML object>"
            ],
            "text/html": [
              "<p>To authorize access needed by Earth Engine, open the following\n",
              "        URL in a web browser and follow the instructions:</p>\n",
              "        <p><a href=https://code.earthengine.google.com/client-auth?scopes=https%3A//www.googleapis.com/auth/earthengine%20https%3A//www.googleapis.com/auth/devstorage.full_control&request_id=DlWPMH1q-c42P7D1zv4KEw05cYVGlOc2putTBTDCxUA&tc=3kR819Idb2MrEFoI1NGzJUaHE8O8Jdy9cPKvtzg2Iwk&cc=vMqh8bA1lKv0JqfWT9u6fMM8R2S0Ka8eMYLwSfzLHYw>https://code.earthengine.google.com/client-auth?scopes=https%3A//www.googleapis.com/auth/earthengine%20https%3A//www.googleapis.com/auth/devstorage.full_control&request_id=DlWPMH1q-c42P7D1zv4KEw05cYVGlOc2putTBTDCxUA&tc=3kR819Idb2MrEFoI1NGzJUaHE8O8Jdy9cPKvtzg2Iwk&cc=vMqh8bA1lKv0JqfWT9u6fMM8R2S0Ka8eMYLwSfzLHYw</a></p>\n",
              "        <p>The authorization workflow will generate a code, which you should paste in the box below.</p>\n",
              "        "
            ]
          },
          "metadata": {}
        },
        {
          "output_type": "stream",
          "name": "stdout",
          "text": [
            "Enter verification code: 4/1AWtgzh7OIHjLpZX-xPNYhFYdJS2WkiUzvipIY1du43BagQ3wp9IK6xMRHLQ\n",
            "\n",
            "Successfully saved authorization token.\n"
          ]
        }
      ]
    },
    {
      "cell_type": "markdown",
      "metadata": {
        "id": "VOf_UnIcZKBJ"
      },
      "source": [
        "### Datasets and Python modules\n",
        "Two [datasets](https://developers.google.com/earth-engine/datasets/catalog/COPERNICUS_S1_GRD) will be used in the tutorial:\n",
        "\n",
        "- COPERNICUS/S1_GRD_FLOAT\n",
        "    - Sentinel-1 ground range detected images\n",
        "- COPERNICUS/S1_GRD  \n",
        "    - Sentinel-1 ground range detected images converted to decibels\n",
        "\n",
        "The following cell imports some python modules which we will be using as we go along,  and also enables inline graphics."
      ]
    },
    {
      "cell_type": "code",
      "metadata": {
        "id": "JR0cxCpeIxoY"
      },
      "source": [
        "import matplotlib.pyplot as plt\n",
        "import numpy as np\n",
        "from scipy.stats import norm, gamma, f, chi2\n",
        "import IPython.display as disp\n",
        "import geemap\n",
        "import os\n",
        "import requests\n",
        "%matplotlib inline"
      ],
      "execution_count": 7,
      "outputs": []
    },
    {
      "cell_type": "markdown",
      "source": [
        "# Parameters for the image request"
      ],
      "metadata": {
        "id": "J6K9YrBbA9dR"
      }
    },
    {
      "cell_type": "markdown",
      "metadata": {
        "id": "eelxHh2qc6xg"
      },
      "source": [
        "And in order to make use of interactive maps, we import the _folium_ package:"
      ]
    },
    {
      "cell_type": "markdown",
      "metadata": {
        "id": "r-GuxE6lJHHx"
      },
      "source": [
        "\n",
        "Let's start work by grabbing a spatial subset of a Sentinel-1 image from the archive. We'll define an region of interest (AOI) as the long-lat corners of a rectangle over the Frankfurt Airport. A convenient way to do this is with the [geojson.io](http://geojson.io/#map=2/20.0/0.0) website, from which we can cut and paste the corresponding GeoJSON object description."
      ]
    },
    {
      "cell_type": "markdown",
      "metadata": {
        "id": "VySnRWy3K0Jk"
      },
      "source": [
        "Note that the last and first corners are identical, indicating closure of the polygon. We have to bore down into the GeoJSON structure to get the geometry coordinates, then create an _ee.Geometry()_ object:"
      ]
    },
    {
      "cell_type": "code",
      "source": [
        "from pykml import parser\n",
        "with open('C:/Users/mario/Documents/Mario/Sentinel/roi/green-botics-fields_2.kml', 'r') as f:\n",
        "  root = parser.parse(f).getroot()\n",
        "namespace = {\"kml\": 'http://www.opengis.net/kml/2.2'}\n",
        "pms = root.xpath(\".//kml:Placemark[.//kml:Polygon]\", namespaces=namespace)\n",
        "roi = []\n",
        "for p in pms:\n",
        "  roi.append(p.Polygon.outerBoundaryIs.LinearRing.coordinates)\n",
        "\n",
        "print(str(roi[0]).split(\" \"))\n",
        "print(str(roi[1]).split(\" \"))"
      ],
      "metadata": {
        "id": "dUk3VGJGVkiP",
        "outputId": "24b8092f-138e-4a63-d043-0fda96a52265",
        "colab": {
          "base_uri": "https://localhost:8080/"
        }
      },
      "execution_count": 24,
      "outputs": [
        {
          "output_type": "stream",
          "name": "stdout",
          "text": [
            "['\\n\\t\\t\\t\\t\\t\\t-8.484574796676251,40.22080763336369,13.45845747065939', '-8.484543553913245,40.22044770124932,13.69046881931113', '-8.48477437137255,40.22040157284538,12.90026143566603', '-8.484467701745347,40.21967008641749,13.62266889195817', '-8.48439151611811,40.21864871292406,13.6475823144155', '-8.484042445597971,40.21834685088991,13.47020047691724', '-8.483627852683103,40.21747778063065,14.83627254848795', '-8.474420263015718,40.21903187590421,13.62665056134038', '-8.472899711493463,40.22061040129381,13.45856029720753', '-8.473020619494765,40.22178306009997,13.19536214611589', '-8.484574796676251,40.22080763336369,13.45845747065939', '\\n\\t\\t\\t\\t\\t']\n",
            "['\\n\\t\\t\\t\\t\\t\\t-8.499577980357419,40.21997349534284,11.6282612587632', '-8.498978272105379,40.2210616348755,12.09497411087636', '-8.500776920977012,40.22158781619041,12.30228612854473', '-8.501327737452014,40.22046637830866,12.27831993909386', '-8.499577980357419,40.21997349534284,11.6282612587632', '\\n\\t\\t\\t\\t\\t']\n"
          ]
        }
      ]
    },
    {
      "cell_type": "code",
      "metadata": {
        "id": "PRWSgszXTjFw"
      },
      "source": [
        "# create the list for all aois\n",
        "aoi_list = []\n",
        "aoi_names = ['Maize1', 'Maize2']\n",
        "aoi_list.append([[[-8.481757943461618, 40.221058298898306],\n",
        "              [-8.482487504313669, 40.217650300991174],\n",
        "              [-8.474054639170847, 40.21909216718002],\n",
        "              [-8.472788636515817, 40.220484849707624],\n",
        "              [-8.472938840220651, 40.22176281554504]]])\n",
        "\n",
        "\n",
        "aoi_list.append([[[-8.500860411678975, 40.221623694557415],\n",
        "              [-8.501407582318013, 40.220493185225436],\n",
        "              [-8.499578315769856, 40.21999346132011],\n",
        "              [-8.49898822978658, 40.22106253829765]]])\n"
      ],
      "execution_count": null,
      "outputs": []
    },
    {
      "cell_type": "markdown",
      "source": [
        "# Figuring out the function to create a square with the plot land in the center"
      ],
      "metadata": {
        "id": "-5mlSB2GctLP"
      }
    },
    {
      "cell_type": "markdown",
      "source": [
        " Square to figure out the pixel coord ratio, Download img and load to check the finnal hight and width."
      ],
      "metadata": {
        "id": "C13D3PFozsqb"
      }
    },
    {
      "cell_type": "code",
      "source": [
        "import math\n",
        "\n",
        "poly = [[[-8.481757943461618, 40.221058298898306],\n",
        "           [-8.482487504313669, 40.217650300991174],\n",
        "           [-8.474054639170847, 40.21909216718002],\n",
        "           [-8.472788636515817, 40.220484849707624],\n",
        "           [-8.472938840220651, 40.22176281554504]]]\n",
        "\n",
        "siz = len(poly[0])\n",
        "list_x = []\n",
        "list_y = []\n",
        "for i in range(siz): \n",
        "  list_x.append(poly[0][i][0])\n",
        "  list_y.append(poly[0][i][1])\n",
        "\n",
        "centroid_x = sum(list_x)/siz\n",
        "centroid_y = sum(list_y)/siz\n",
        "\n",
        "print(centroid_x, centroid_y)\n"
      ],
      "metadata": {
        "colab": {
          "base_uri": "https://localhost:8080/"
        },
        "id": "JyHQhpZHacy5",
        "outputId": "3b30b8d2-7808-419c-bbee-c7de091c6a7f"
      },
      "execution_count": null,
      "outputs": [
        {
          "output_type": "stream",
          "name": "stdout",
          "text": [
            "-8.47680551273652 40.22000968646444\n"
          ]
        }
      ]
    },
    {
      "cell_type": "code",
      "source": [
        "import requests\n",
        "\n",
        "square = ee.Geometry.Polygon(\n",
        "    [[[-8.474415606544039, 40.23368990967016],\n",
        "          [-8.474415606544039, 40.22471245101487],\n",
        "          [-8.462313479468843, 40.22471245101487],\n",
        "          [-8.462313479468843, 40.23368990967016]]],None,False)\n",
        "\n",
        "ffa_s2_test = ee.ImageCollection('COPERNICUS/S2') \\\n",
        "                       .filterBounds(square) \\\n",
        "                       .filterDate(ee.Date('2019-01-01'), ee.Date('2019-12-31'))\n",
        "colList = ffa_s2_test.toList(10)\n",
        "\n",
        "img = ee.Image(colList.get(3)).double().clip(square)\n",
        "\n",
        "rgb = ['B4','B3','B2']\n",
        "\n",
        "url = img.select(rgb).getThumbURL({'min': 0, 'max': 3000})\n",
        "\n",
        "img_data = requests.get(url).content\n",
        "\n",
        "path = 'C:/Users/mario/Documents/Mario/Sentinel/Z-Aux'\n",
        "id = img.id().getInfo()\n",
        "with open(path + '/' + id +'.jpg', 'wb') as handler:\n",
        "  handler.write(img_data)\n"
      ],
      "metadata": {
        "id": "NvguY3tkzsGP"
      },
      "execution_count": null,
      "outputs": []
    },
    {
      "cell_type": "code",
      "source": [
        "import cv2\n",
        "\n",
        "img_path = 'C:/Users/mario/Documents/Mario/Sentinel/Z-Aux/20190110T112439_20190110T112653_T29TNE.jpg'\n",
        "\n",
        "img = cv2.imread(img_path)\n",
        "\n",
        "print(img.shape) # height. width, channels -> 101, 104, 3"
      ],
      "metadata": {
        "id": "tkqbYqnSMCfA"
      },
      "execution_count": null,
      "outputs": []
    },
    {
      "cell_type": "code",
      "source": [
        "square_coords = [[[-8.474415606544039, 40.23368990967016],\n",
        "          [-8.474415606544039, 40.22471245101487],\n",
        "          [-8.462313479468843, 40.22471245101487],\n",
        "          [-8.462313479468843, 40.23368990967016]]]\n",
        "height = 101\n",
        "width = 104\n",
        "\n",
        "height_coords = abs(square_coords[0][0][1] - square_coords[0][1][1])\n",
        "width_coords = abs(square_coords[0][1][0] - square_coords[0][2][0])\n",
        "\n",
        "resize_width = width_coords*128/width\n",
        "resize_height = height_coords*128/height\n",
        "\n",
        "print(resize_height,resize_width)"
      ],
      "metadata": {
        "id": "Cly_dsVRSWs_"
      },
      "execution_count": null,
      "outputs": []
    },
    {
      "cell_type": "markdown",
      "source": [
        "# Functions 128x128 and Check if inside"
      ],
      "metadata": {
        "id": "mjJQw6KS8z-O"
      }
    },
    {
      "cell_type": "code",
      "source": [
        "# Create a mask-----\n",
        "# Check if all the reagion of interest is in the image\n",
        "\n",
        "def get_squares(aois):\n",
        "    # 0.011377373345324189 0.014894925631009616 -> Height, Width\n",
        "    new_aois = []\n",
        "    h_aux = 0.011377373345324189/2\n",
        "    w_aux = 0.014854925631009616/2\n",
        "    for aoi in aois:\n",
        "      # Find centeroid ----------------------------\n",
        "      siz = len(aoi[0])\n",
        "      list_width = []\n",
        "      list_height = []\n",
        "      for i in range(siz): \n",
        "        list_width.append(aoi[0][i][0])\n",
        "        list_height.append(aoi[0][i][1])\n",
        "\n",
        "      centroid_width = sum(list_width)/siz\n",
        "      centroid_height = sum(list_height)/siz\n",
        "\n",
        "      aoi_new = [[[(centroid_width-w_aux), (centroid_height+h_aux)], [(centroid_width-w_aux), (centroid_height-h_aux)], [(centroid_width+w_aux), (centroid_height-h_aux)], [(centroid_width+w_aux), (centroid_height+h_aux)]]]\n",
        "      #inside, split_aois = check_if_inside(aoi_new, aoi)\n",
        "      #if inside:\n",
        "      new_aois.append(aoi_new)\n",
        "      #else:\n",
        "        #for saois in split_aois:\n",
        "          #new_aois.append(saois)\n",
        "      \n",
        "    return new_aois\n"
      ],
      "metadata": {
        "id": "-DInDppgdWx0"
      },
      "execution_count": null,
      "outputs": []
    },
    {
      "cell_type": "code",
      "source": [
        "def check_if_inside(aoiSquare, aoiPoly):\n",
        "  inside = True\n",
        "  # ---- Empty Lists for the x and y coords --\n",
        "  xListPoly = []\n",
        "  yListPoly = []\n",
        "  xListSquare = []\n",
        "  yListSquare = []\n",
        "  # ---- Fill the lists with the coords ------\n",
        "  for i in range(len(aoiPoly[0])): \n",
        "    xListPoly.append(aoiPoly[0][i][0])\n",
        "    yListPoly.append(aoiPoly[0][i][1])\n",
        "    if i < 4:\n",
        "      xListSquare.append(aoiSquare[0][i][0])\n",
        "      yListSquare.append(aoiSquare[0][i][1])\n",
        "\n",
        "  # ---- Non-Square Coordinates -------------   \n",
        "  xMinP = min(xListPoly)\n",
        "  xMaxP = max(xListPoly)\n",
        "  yMinP = min(yListPoly)\n",
        "  yMaxP = max(yListPoly)\n",
        "  # ---- Square Coordinates -----------------\n",
        "  xMinS = min(xListSquare)\n",
        "  xMaxS = max(xListSquare)\n",
        "  yMinS = min(yListSquare)\n",
        "  yMaxS = max(yListSquare)\n",
        "\n",
        "  # ----  Create new aois if necessary\n",
        "  new_aois = []\n",
        "  new_aois.append(aoiSquare)\n",
        "  if xMinS > xMinP:\n",
        "    # new function\n",
        "    aoi_aux1 = [[[xMinP, yMaxS],\n",
        "                 [xMinP, yMinS],\n",
        "                 [xMaxS, yMinS],\n",
        "                 [xMinS, yMaxS]]]\n",
        "    new_aois.append(aoi_aux1)\n",
        "    inside = False\n",
        "  if xMaxS < xMaxP:\n",
        "    aoi_aux2 = [[[xMaxS, yMaxS],\n",
        "                 [xMaxS, yMinS],\n",
        "                 [xMaxP, yMinS],\n",
        "                 [xMaxP, yMaxS]]]\n",
        "    new_aois.append(aoi_aux2)\n",
        "    inside = False\n",
        "  if yMinS > yMinP:\n",
        "    aoi_aux3 = [[[xMinS, yMinS],\n",
        "                 [xMinS, yMinP],\n",
        "                 [xMaxS, yMinP],\n",
        "                 [xMaxS, yMinS]]]\n",
        "    new_aois.append(aoi_aux3)\n",
        "    inside = False\n",
        "  if yMaxS < yMaxP:\n",
        "    aoi_aux4 = [[[xMinS, yMaxP],\n",
        "                 [xMinS, yMaxS],\n",
        "                 [xMaxS, yMaxS],\n",
        "                 [xMaxS, yMaxP]]]\n",
        "    new_aois.append(aoi_aux4)\n",
        "    inside = False\n",
        "  # (...) 4 more edge cases, diagonal fit\n",
        "\n",
        "  # inside - returns if the filed fits in the current region created from get_squares()\n",
        "  # new_aois - list of new regions created when the field doens't fit in the current region \n",
        "  # new_polys - returns the field associated with the new region \n",
        "  return inside, new_aois, new_polys"
      ],
      "metadata": {
        "id": "JF6k8gejN7e3"
      },
      "execution_count": null,
      "outputs": []
    },
    {
      "cell_type": "code",
      "source": [
        "def get_fieldShape(xLand, yLand, xSquare, ySquare, orientation):\n",
        "  coords_left = []\n",
        "  coords_right = []\n",
        "  aoi_landList = []\n",
        "  for i in range(len(xLand)):\n",
        "    # new list \n",
        "    if orientation == 'Left':\n",
        "      if xLand[i] < min(xSquare):\n",
        "        coords_left.append([xLand[i], yLand[i]])\n",
        "  return aoi_landList"
      ],
      "metadata": {
        "id": "Xcwz2pEbJKAT"
      },
      "execution_count": null,
      "outputs": []
    },
    {
      "cell_type": "code",
      "source": [
        "testing_edge = [[[-8.486570903134364, 40.22201669717746],\n",
        "          [-8.486570903134364, 40.21728156684586],\n",
        "          [-8.471378871274013, 40.21728156684586],\n",
        "          [-8.471378871274013, 40.22201669717746]]]\n",
        "\n",
        "print(len(testing_edge[0]))"
      ],
      "metadata": {
        "colab": {
          "base_uri": "https://localhost:8080/"
        },
        "id": "2G-lSNmdJiYE",
        "outputId": "008d0037-5772-4057-80d4-513db320020e"
      },
      "execution_count": null,
      "outputs": [
        {
          "output_type": "stream",
          "name": "stdout",
          "text": [
            "4\n"
          ]
        }
      ]
    },
    {
      "cell_type": "code",
      "source": [
        "#def create_mask(aoi_land, aoi_square):\n",
        "testing_edge = [[[-8.486570903134364, 40.22201669717746],\n",
        "          [-8.486570903134364, 40.21728156684586],\n",
        "          [-8.471378871274013, 40.21728156684586],\n",
        "          [-8.471378871274013, 40.22201669717746]]]\n",
        "\n",
        "aoi_land = [[[-8.481757943461618, 40.221058298898306],\n",
        "              [-8.482487504313669, 40.217650300991174],\n",
        "              [-8.474054639170847, 40.21909216718002],\n",
        "              [-8.472788636515817, 40.220484849707624],\n",
        "              [-8.472938840220651, 40.22176281554504]]]\n",
        "\n",
        "aoi_test = ee.Geometry.Polygon(testing_edge,None,False)\n",
        "aoi_test_land = ee.Geometry.Polygon(aoi_land,None,False)\n",
        "\n",
        "ffa_s2 = ee.ImageCollection('COPERNICUS/S2') \\\n",
        "                        .filterBounds(aoi_test) \\\n",
        "                        .filter(ee.Filter.bounds(aoi_test_land))\\\n",
        "                        .filterDate(ee.Date('2017-01-01'), ee.Date('2023-12-31'))\n",
        "colList = ffa_s2.toList(30)\n",
        "\n",
        "\n",
        "img = ee.Image(colList.get(17)).double().clip(aoi_test)\n",
        "\n",
        "\n",
        "rgb = ['B4','B3','B2']\n",
        "url = img.getThumbURL({\"min\":-20000, \"max\":-20000,\"bands\":rgb})\n",
        "\n",
        "img_data = requests.get(url).content\n",
        "\n",
        "disp.Image(url=url, width = 300)"
      ],
      "metadata": {
        "colab": {
          "base_uri": "https://localhost:8080/",
          "height": 146
        },
        "id": "aIFsT5yAZ8s-",
        "outputId": "2913b051-1aa9-4a04-9bce-b1675abb68e5"
      },
      "execution_count": null,
      "outputs": [
        {
          "output_type": "execute_result",
          "data": {
            "text/html": [
              "<img src=\"https://earthengine.googleapis.com/v1alpha/projects/earthengine-legacy/thumbnails/a382bd21cf2207f23648ddad11d916cd-e700470207f6c5b1f61600d29791d4c5:getPixels\" width=\"300\"/>"
            ],
            "text/plain": [
              "<IPython.core.display.Image object>"
            ]
          },
          "metadata": {},
          "execution_count": 27
        }
      ]
    },
    {
      "cell_type": "markdown",
      "source": [
        "# Test"
      ],
      "metadata": {
        "id": "THCtknu0MW60"
      }
    },
    {
      "cell_type": "code",
      "source": [
        "square_coords = [[[-8.474415606544039, 40.23368990967016],\n",
        "          [-8.474415606544039, 40.22471245101487],\n",
        "          [-8.462313479468843, 40.22471245101487],\n",
        "          [-8.462313479468843, 40.23368990967016]]]\n",
        "\n",
        "poly = [[[-8.481757943461618, 40.221058298898306],\n",
        "           [-8.482487504313669, 40.217650300991174],\n",
        "           [-8.474054639170847, 40.21909216718002],\n",
        "           [-8.472788636515817, 40.220484849707624],\n",
        "           [-8.472938840220651, 40.22176281554504]]]\n",
        "\n",
        "testing_edge = [[[-8.486570903134364, 40.22201669717746],\n",
        "          [-8.486570903134364, 40.21728156684586],\n",
        "          [-8.471378871274013, 40.21728156684586],\n",
        "          [-8.471378871274013, 40.22201669717746]]]\n",
        "list_testing = []\n",
        "list_testing.append(testing_edge)\n",
        "aois_testing = get_squares(list_testing)\n",
        "test_inside ,new_testingAois = check_if_inside(testing_edge,aois_testing[0])\n",
        "\n",
        "new_testingGeometry = []\n",
        "for aoi_test in new_testingAois:\n",
        "  new_testingGeometry.append(ee.Geometry.Polygon(aoi_test,None,False))\n",
        "\n",
        "for idx, aoi_test in enumerate(new_testingGeometry):\n",
        "  ffa_s2 = ee.ImageCollection('COPERNICUS/S2') \\\n",
        "                        .filterBounds(aoi_test) \\\n",
        "                        .filterDate(ee.Date('2017-01-01'), ee.Date('2023-12-31'))\n",
        "  colList = ffa_s2.toList(30)\n",
        "\n",
        "\n",
        "  img = ee.Image(colList.get(17)).double().clip(aoi_test)\n",
        "\n",
        "\n",
        "  rgb = ['B4','B3','B2']\n",
        "  url = img.getThumbURL({\"min\":0, \"max\":2500,\"bands\":rgb})\n",
        "\n",
        "  img_data = requests.get(url).content\n",
        "\n",
        "  path = 'C:/Users/mario/Documents/Mario/Sentinel/Z-Aux/' + str(idx)\n",
        "  id = img.id().getInfo()\n",
        "  with open(path + '/' + id +'.jpg', 'wb') as handler:\n",
        "    handler.write(img_data)"
      ],
      "metadata": {
        "id": "YgAXFcBvSyOE"
      },
      "execution_count": null,
      "outputs": []
    },
    {
      "cell_type": "code",
      "source": [
        "print(new_testingAois)"
      ],
      "metadata": {
        "id": "PU8XL2iGA-Fz"
      },
      "execution_count": null,
      "outputs": []
    },
    {
      "cell_type": "code",
      "source": [
        "poly = [[[-8.486570903134364, 40.22201669717746],\n",
        "          [-8.486570903134364, 40.21728156684586],\n",
        "          [-8.471378871274013, 40.21728156684586],\n",
        "          [-8.471378871274013, 40.22201669717746]]]\n",
        "\n",
        "aois = [poly] \n",
        "#naois = get_squares(aois)\n",
        "\n",
        "aoi_test = ee.Geometry.Polygon(aois[0],None,False)\n",
        "\n",
        "\n",
        "ffa_s2 = ee.ImageCollection('COPERNICUS/S2') \\\n",
        "                       .filterBounds(aoi_test) \\\n",
        "                       .filterDate(ee.Date('2017-01-01'), ee.Date('2023-12-31'))\n",
        "colList = ffa_s2.toList(30)\n",
        "\n",
        "\n",
        "img = ee.Image(colList.get(17)).double().clip(aoi_test)\n",
        "\n",
        "\n",
        "rgb = ['B4','B3','B2']\n",
        "url = img.getThumbURL({\"min\":0, \"max\":2500,\"bands\":rgb})\n",
        "\n",
        "img_data = requests.get(url).content\n",
        "\n",
        "path = 'C:/Users/mario/Documents/Mario/Sentinel/Z-Aux'\n",
        "id = img.id().getInfo()\n",
        "with open(path + '/' + id +'.jpg', 'wb') as handler:\n",
        "  handler.write(img_data)\n",
        "\n",
        "\n",
        "disp.Image(url=url, width = 300)"
      ],
      "metadata": {
        "colab": {
          "base_uri": "https://localhost:8080/",
          "height": 146
        },
        "id": "LYM7WwmIMWF_",
        "outputId": "3be8419b-d363-4ef4-d51e-9c6380419db2"
      },
      "execution_count": null,
      "outputs": [
        {
          "output_type": "execute_result",
          "data": {
            "text/html": [
              "<img src=\"https://earthengine.googleapis.com/v1alpha/projects/earthengine-legacy/thumbnails/848a4b9190035cdd95e3537775e541e0-ea6fd76df87c8c4b3be6fcfc40ebf508:getPixels\" width=\"300\"/>"
            ],
            "text/plain": [
              "<IPython.core.display.Image object>"
            ]
          },
          "metadata": {},
          "execution_count": 14
        }
      ]
    },
    {
      "cell_type": "markdown",
      "metadata": {
        "id": "C6rM63_lTqJ9"
      },
      "source": [
        "Next, we filter the S1 archive to get an image over the _aoi_ acquired sometime in August, 2020. Any old image will do fine, so we won't bother to specify the orbit number or whether we want the ASCENDING or DESCENDING node. If we don't specify the instrument mode or resolution, we get _IW_ (interferometric wide swath) mode and $10\\times 10\\ m^2$ pixels by default. For convenience we grab both decibel and float versions:"
      ]
    },
    {
      "cell_type": "markdown",
      "source": [
        "# 128x128 aois"
      ],
      "metadata": {
        "id": "mFue7DOPPrYj"
      }
    },
    {
      "cell_type": "code",
      "source": [
        "# for each aoi, get the square and create the new list ee.Geometry.Polygon\n",
        "aois = get_squares(aoi_list)\n",
        "aois_geometry = []\n",
        "for aoi in aois:\n",
        "  aois_geometry.append(ee.Geometry.Polygon(aoi,None,False))"
      ],
      "metadata": {
        "id": "3PRuxeq8O1YX"
      },
      "execution_count": null,
      "outputs": []
    },
    {
      "cell_type": "markdown",
      "source": [
        "# Parameters"
      ],
      "metadata": {
        "id": "aycoNvZIdEdF"
      }
    },
    {
      "cell_type": "code",
      "source": [
        "folder_dataset = 'C:/Users/mario/Documents/Mario/Sentinel/dataset'\n",
        "starting_date = '2017-01-01'\n",
        "ending_date = '2023-12-31'\n",
        "nimgs = 2190"
      ],
      "metadata": {
        "id": "WV1MP2kaLgCb"
      },
      "execution_count": null,
      "outputs": []
    },
    {
      "cell_type": "markdown",
      "source": [
        "## SENTINEL-1"
      ],
      "metadata": {
        "id": "rSd4hNDynjlE"
      }
    },
    {
      "cell_type": "code",
      "metadata": {
        "id": "ALF5YkahTvRl"
      },
      "source": [
        "ffa_db = ee.Image(ee.ImageCollection('COPERNICUS/S1_GRD') \n",
        "                       .filterBounds(aois_geometry[0]) \n",
        "                       .filterDate(ee.Date('2019-01-01'), ee.Date('2019-12-31')) \n",
        "                       .first() \n",
        "                       .clip(aois_geometry[0]))"
      ],
      "execution_count": null,
      "outputs": []
    },
    {
      "cell_type": "markdown",
      "metadata": {
        "id": "Tcj_XBgDT032"
      },
      "source": [
        "# Testing the best range for the bands, min and max"
      ]
    },
    {
      "cell_type": "code",
      "metadata": {
        "id": "-h-0Jz68T5Tn",
        "outputId": "7c70962f-677c-4476-fe4a-ca5d6bc867aa",
        "colab": {
          "base_uri": "https://localhost:8080/"
        }
      },
      "source": [
        "ffa_db.bandNames().getInfo()"
      ],
      "execution_count": null,
      "outputs": [
        {
          "output_type": "execute_result",
          "data": {
            "text/plain": [
              "['VV', 'VH', 'angle']"
            ]
          },
          "metadata": {},
          "execution_count": 21
        }
      ]
    },
    {
      "cell_type": "code",
      "source": [
        "ffa_s1 = ee.ImageCollection('COPERNICUS/S1_GRD') \\\n",
        "                       .filterBounds(aois_geometry[0]) \\\n",
        "                       .filterDate(ee.Date('2019-01-01'), ee.Date('2019-12-31'))\n",
        "colList = ffa_s1.toList(30)\n",
        "\n",
        "img = ee.Image(colList.get(19)).double().clip(aois_geometry[0])\n",
        "url = img.select('VH').getThumbURL({'min': -25, 'max': -7})\n",
        "disp.Image(url=url, width = 300)"
      ],
      "metadata": {
        "id": "1A8_UcvYcRqX",
        "colab": {
          "base_uri": "https://localhost:8080/",
          "height": 319
        },
        "outputId": "ef0c885f-176a-4e6c-e3ef-a982242f9e2e"
      },
      "execution_count": null,
      "outputs": [
        {
          "output_type": "execute_result",
          "data": {
            "text/html": [
              "<img src=\"https://earthengine.googleapis.com/v1alpha/projects/earthengine-legacy/thumbnails/23e6597c1293304ea202c1a023fd1137-c7ff8aa9ac59d32fc01976d488762292:getPixels\" width=\"300\"/>"
            ],
            "text/plain": [
              "<IPython.core.display.Image object>"
            ]
          },
          "metadata": {},
          "execution_count": 23
        }
      ]
    },
    {
      "cell_type": "markdown",
      "source": [
        "# Function to request the images Sentinel-1 ---------------------------------------------------------------------"
      ],
      "metadata": {
        "id": "DT5PUABiCAT1"
      }
    },
    {
      "cell_type": "code",
      "source": [
        "def ExportCol_Sentinel1(path, roi, channel, min, max, n):\n",
        "  try:\n",
        "    for i in range(0,nimgs,1):\n",
        "      ffa_s = ee.ImageCollection('COPERNICUS/S1_GRD') \\\n",
        "                        .filterBounds(roi) \\\n",
        "                        .filterDate(ee.Date(starting_date), ee.Date(ending_date))\n",
        "\n",
        "      colList = ffa_s.toList(nimgs); \n",
        "\n",
        "      img = ee.Image(colList.get(i)).double().clip(roi)\n",
        "      # Exeption beacause to get a RGB channel with the Sentinel-1 we need to correspond each channel and compute the last\n",
        "      if channel == 'RGB':\n",
        "        imgR = img.select('VV')\n",
        "        imgG = img.select('VH')\n",
        "        imgB = img.select('VV').divide(img.select('VH'))\n",
        "        url = ee.Image.rgb(imgR,imgG,imgB).getThumbURL({'min': [min[0], min[1], 0], 'max': [0, 0, 2]})\n",
        "      else:\n",
        "        url = img.select(channel).getThumbURL({'min': min[n], 'max': max[n]})\n",
        "\n",
        "      id = img.id().getInfo()\n",
        "      img_data = requests.get(url).content\n",
        "\n",
        "      # Creates the folder but the flag need to be turned off beacause it will try to makedir after the creation\n",
        "      try:\n",
        "        os.makedirs(path)\n",
        "        with open(path + '/' + id +'.jpg', 'wb') as handler:\n",
        "          handler.write(img_data)\n",
        "          #create_folders = False\n",
        "      except:\n",
        "        # This just saves the image in the correct folder with the name 'id' (var->'id')\n",
        "        with open(path + '/' + id +'.jpg', 'wb') as handler:\n",
        "          handler.write(img_data)\n",
        "  except:\n",
        "    return"
      ],
      "metadata": {
        "id": "5w0ahSCEbKV8"
      },
      "execution_count": null,
      "outputs": []
    },
    {
      "cell_type": "markdown",
      "source": [
        "The request"
      ],
      "metadata": {
        "id": "dArUiDs1CPIw"
      }
    },
    {
      "cell_type": "code",
      "source": [
        "# Variables needed to save images\n",
        "bands_s1 = ffa_db.bandNames().getInfo()\n",
        "bands_s1.remove('angle')\n",
        "bands_s1.append('RGB')\n",
        "\n",
        "min = [-14, -25]\n",
        "max = [-7] * 2\n",
        "#-------------------\n",
        "for idx, a in enumerate(aois_geometry):\n",
        "  for jdx, b in enumerate(bands_s1):\n",
        "    path = folder_dataset +'/'+ aoi_names[idx] +'/'+ b\n",
        "    ExportCol_Sentinel1(path, a, b, min, max, jdx)"
      ],
      "metadata": {
        "id": "BIdwCq3Qek6C"
      },
      "execution_count": null,
      "outputs": []
    },
    {
      "cell_type": "code",
      "source": [
        "# delete\n",
        "for i, a in enumerate(aois):\n",
        "  print(i)\n",
        "  print(' ')\n",
        "  #print(a)\n",
        "\n",
        "bands_s1 = ffa_db.bandNames().getInfo()\n",
        "bands_s1.remove('angle')\n",
        "bands_s1.append('RGB')\n",
        "\n",
        "for jdx, b in enumerate(bands_s1):\n",
        "  print(b)"
      ],
      "metadata": {
        "colab": {
          "base_uri": "https://localhost:8080/"
        },
        "id": "RP3f0M1t_cPx",
        "outputId": "51516bdf-1ae5-4b7c-ff9c-9843d1cebcad"
      },
      "execution_count": null,
      "outputs": [
        {
          "output_type": "stream",
          "name": "stdout",
          "text": [
            "0\n",
            " \n",
            "VV\n",
            "VH\n",
            "RGB\n"
          ]
        }
      ]
    },
    {
      "cell_type": "markdown",
      "metadata": {
        "id": "yAO0MhD5YuZC"
      },
      "source": [
        "# Test of the RGB image using the 2 channels of the Sentinel-1"
      ]
    },
    {
      "cell_type": "code",
      "metadata": {
        "id": "Z8iPEdmkZPk0",
        "colab": {
          "base_uri": "https://localhost:8080/",
          "height": 193
        },
        "outputId": "58efe948-9b95-44dc-9d73-42d564b5ff9b"
      },
      "source": [
        "# Make an RGB color composite image (VV,VH,VV/VH).\n",
        "rgb = ee.Image.rgb(ffa_db.select('VV'),\n",
        "                   ffa_db.select('VH'),\n",
        "                   ffa_db.select('VV').divide(ffa_db.select('VH'))).getThumbURL({'min': [-14, -25, 0], 'max': [-7, -7, 3]})\n",
        "\n",
        "\n",
        "disp.Image(url=rgb, width = 300)"
      ],
      "execution_count": null,
      "outputs": [
        {
          "output_type": "execute_result",
          "data": {
            "text/html": [
              "<img src=\"https://earthengine.googleapis.com/v1alpha/projects/earthengine-legacy/thumbnails/6ad3fc352dd463ab4396099fdff59d09-9e53ff241851b49d5a93d57b087ef899:getPixels\" width=\"300\"/>"
            ],
            "text/plain": [
              "<IPython.core.display.Image object>"
            ]
          },
          "metadata": {},
          "execution_count": 63
        }
      ]
    },
    {
      "cell_type": "markdown",
      "source": [
        "# SENTINEL-2 testing ---------------------------------"
      ],
      "metadata": {
        "id": "vaEJfqhdnomQ"
      }
    },
    {
      "cell_type": "code",
      "source": [
        "aoi1 = ee.Geometry.Polygon(\n",
        "        [[[-8.48545509905759, 40.22345971261565],\n",
        "          [-8.48545509905759, 40.2128095274749],\n",
        "          [-8.461937490415012, 40.2128095274749],\n",
        "          [-8.461937490415012, 40.22345971261565]]],None,False)\n",
        "\n",
        "ffa_db2 = ee.Image(ee.ImageCollection('COPERNICUS/S2') \n",
        "                       .filterBounds(aoi1) \n",
        "                       .filterDate(ee.Date('2019-01-01'), ee.Date('2019-12-31')) \n",
        "                       .first()\n",
        "                       .clip(aoi1))\n",
        "\n",
        "ffa_s2 = ee.ImageCollection('COPERNICUS/S2') \\\n",
        "                       .filterBounds(aoi1) \\\n",
        "                       .filterDate(ee.Date('2017-01-01'), ee.Date('2023-12-31'))\n",
        "colList = ffa_s2.toList(30)\n",
        "\n",
        "\n",
        "img = ee.Image(colList.get(18)).double().clip(aoi1)\n",
        "\n",
        "rgb = ['B12']\n",
        "url = img.getThumbURL({\"min\":0, \"max\":2500,\"bands\":rgb})\n",
        "\n",
        "disp.Image(url=url, width = 300)"
      ],
      "metadata": {
        "id": "OvpS28rWnoRL",
        "colab": {
          "base_uri": "https://localhost:8080/",
          "height": 321
        },
        "outputId": "0f3a3161-7050-424e-dfda-6d1951da0658"
      },
      "execution_count": null,
      "outputs": [
        {
          "output_type": "execute_result",
          "data": {
            "text/html": [
              "<img src=\"https://earthengine.googleapis.com/v1alpha/projects/earthengine-legacy/thumbnails/468029121a1544f6dc9df8a770ec62d1-b57df621c405f44b23d438d778f96399:getPixels\" width=\"300\"/>"
            ],
            "text/plain": [
              "<IPython.core.display.Image object>"
            ]
          },
          "metadata": {},
          "execution_count": 50
        }
      ]
    },
    {
      "cell_type": "code",
      "source": [
        "aoi1 = ee.Geometry.Polygon(\n",
        "         [[[-8.471299278632037, 40.22244132271391],\n",
        "          [-8.471299278632037, 40.215199270092846],\n",
        "          [-8.460098373785845, 40.215199270092846],\n",
        "          [-8.460098373785845, 40.22244132271391]]],None,False)\n",
        "\n",
        "ffa_db2 = ee.Image(ee.ImageCollection('COPERNICUS/S2') \n",
        "                       .filterBounds(aoi1) \n",
        "                       .filterDate(ee.Date('2019-01-01'), ee.Date('2019-12-31')) \n",
        "                       .first()\n",
        "                       .clip(aoi1))\n",
        "\n",
        "ffa_s2 = ee.ImageCollection('COPERNICUS/S2') \\\n",
        "                       .filterBounds(aoi1) \\\n",
        "                       .filterDate(ee.Date('2017-01-01'), ee.Date('2023-12-31'))\n",
        "colList = ffa_s2.toList(30)\n",
        "\n",
        "\n",
        "img = ee.Image(colList.get(18)).double().clip(aoi1)\n",
        "\n",
        "rgb = ['B4','B3','B2']\n",
        "url = img.getThumbURL({\"min\":0, \"max\":2500,\"bands\":rgb})\n",
        "\n",
        "disp.Image(url=url, width = 300)"
      ],
      "metadata": {
        "id": "K2icXNDPHxK2"
      },
      "execution_count": null,
      "outputs": []
    },
    {
      "cell_type": "code",
      "source": [
        "ffa_db2.bandNames().getInfo()"
      ],
      "metadata": {
        "colab": {
          "base_uri": "https://localhost:8080/"
        },
        "id": "-RQxnKkHoBto",
        "outputId": "c4da86c2-c4f9-46d4-cc72-366606a7bb1c"
      },
      "execution_count": null,
      "outputs": [
        {
          "output_type": "execute_result",
          "data": {
            "text/plain": [
              "['B1',\n",
              " 'B2',\n",
              " 'B3',\n",
              " 'B4',\n",
              " 'B5',\n",
              " 'B6',\n",
              " 'B7',\n",
              " 'B8',\n",
              " 'B8A',\n",
              " 'B9',\n",
              " 'B10',\n",
              " 'B11',\n",
              " 'B12',\n",
              " 'QA10',\n",
              " 'QA20',\n",
              " 'QA60']"
            ]
          },
          "metadata": {},
          "execution_count": 69
        }
      ]
    },
    {
      "cell_type": "code",
      "source": [
        "rgb = ['B4','B3','B2']\n",
        "url = ffa_db2.getThumbURL({\"min\":0, \"max\":2500,\"bands\":rgb})\n",
        "\n",
        "disp.Image(url=url, width = 300)"
      ],
      "metadata": {
        "colab": {
          "base_uri": "https://localhost:8080/",
          "height": 191
        },
        "id": "1klALStyoQ9M",
        "outputId": "1e41ca7f-95ff-424a-bee1-d542bd720ade"
      },
      "execution_count": null,
      "outputs": [
        {
          "output_type": "execute_result",
          "data": {
            "text/html": [
              "<img src=\"https://earthengine.googleapis.com/v1alpha/projects/earthengine-legacy/thumbnails/5478d4469e65fdb540e4ec38dc8d52c4-f422d77db86ad78bf38aab5e382dd33b:getPixels\" width=\"300\"/>"
            ],
            "text/plain": [
              "<IPython.core.display.Image object>"
            ]
          },
          "metadata": {},
          "execution_count": 9
        }
      ]
    },
    {
      "cell_type": "code",
      "source": [
        "ffa_s2 = ee.ImageCollection('COPERNICUS/S2') \\\n",
        "                       .filterBounds(aoi1) \\\n",
        "                       .filterDate(ee.Date('2017-01-01'), ee.Date('2023-12-31'))\n",
        "colList = ffa_s2.toList(10)"
      ],
      "metadata": {
        "id": "vZtjXhCmtmOo"
      },
      "execution_count": null,
      "outputs": []
    },
    {
      "cell_type": "markdown",
      "source": [
        "# Sentinel-2 request fucntion"
      ],
      "metadata": {
        "id": "D2MLEdd-NzaJ"
      }
    },
    {
      "cell_type": "code",
      "source": [
        "def ExportCol_Sentinel2(folder, roi, roi_name channel, create_folders, min, max, n):\n",
        "  for i in range(0,nimgs,1):\n",
        "    try:\n",
        "      ffa_s = ee.ImageCollection('COPERNICUS/S2') \\\n",
        "                        .filterBounds(roi) \\\n",
        "                        .filterDate(ee.Date(starting_date), ee.Date(ending_date))\n",
        "\n",
        "      colList = ffa_s.toList(ffa_s.size());                   \n",
        "\n",
        "      img = ee.Image(colList.get(i)).double().clip(roi)\n",
        "      # Exeption beacause to get a RGB channel with the Sentinel-1 we need to correspond each channel and compute the last\n",
        "      if channel == 'RGB':\n",
        "        rgb = ['B4','B3','B2']\n",
        "        url = img.getThumbURL({\"min\":min[n], \"max\":max[n],\"bands\":rgb})\n",
        "      else:\n",
        "        url = img.getThumbURL({\"min\":min[n], \"max\":max[n],\"bands\":channel})\n",
        "\n",
        "      id = img.id().getInfo()\n",
        "      img_data = requests.get(url).content\n",
        "      path = 'drive/MyDrive/' + folder\n",
        "\n",
        "      # Creates the folder but the flag need to be turned off beacause it will try to makedir after the creation\n",
        "      if create_folders:\n",
        "        os.makedirs(path)\n",
        "        with open(path + '/' + id +'.jpg', 'wb') as handler:\n",
        "          handler.write(img_data)\n",
        "          create_folders = False\n",
        "      else:\n",
        "        # This just saves the image in the correct folder with the name 'id' (var->'id')\n",
        "        with open(path + '/' + id +'.jpg', 'wb') as handler:\n",
        "          handler.write(img_data)\n",
        "    except:\n",
        "      return"
      ],
      "metadata": {
        "id": "o9wTE6-ZtG6k"
      },
      "execution_count": null,
      "outputs": []
    },
    {
      "cell_type": "markdown",
      "source": [
        "Request"
      ],
      "metadata": {
        "id": "XB-0Y9ztN2Xx"
      }
    },
    {
      "cell_type": "code",
      "source": [
        "bands_s2 = ffa_db2.bandNames().getInfo()\n",
        "aux_bands_s2 =  bands_s2.copy();\n",
        "for x in aux_bands_s2: \n",
        "  if x in  ['QA10','QA20','QA60','B10']: \n",
        "    bands_s2.remove(x) #bands_s2.remove(['QA10','QA20','QA60','B10'])\n",
        "bands_s2.append('RGB')\n",
        "\n",
        "min = [0] * len(bands_s2)\n",
        "max = [2700, 3000, 3000, 3000, 3000, 3000, 3000, 3000, 3000, 2000, 3200, 2500, 3000]\n",
        "\n",
        "bands_s2 = ['RGB']\n",
        "for a in aois:\n",
        "  for i in range(0,len(bands_s2),1):\n",
        "    channel = bands_s2[i]\n",
        "    folder = 'Sentinel-2/Maize/'+ channel\n",
        "\n",
        "    ExportCol_Sentinel2(folder, a, channel, create_folders, min, max, 12)"
      ],
      "metadata": {
        "id": "04Sa6mrIuHR_"
      },
      "execution_count": null,
      "outputs": []
    },
    {
      "cell_type": "markdown",
      "source": [
        "# Testing the best range for the bands, min and max, Sentinel-2"
      ],
      "metadata": {
        "id": "bhsrmNhOPUZF"
      }
    },
    {
      "cell_type": "code",
      "source": [
        "aoi_test = ee.Geometry.Polygon(\n",
        "        [[[-8.55251498879442, 40.24180169042327],\n",
        "          [-8.55251498879442, 40.208117730174855],\n",
        "          [-8.451578099145982, 40.208117730174855],\n",
        "          [-8.451578099145982, 40.24180169042327]]],None,False)\n",
        "\n",
        "ffa_s2_test = ee.ImageCollection('COPERNICUS/S2') \\\n",
        "                       .filterBounds(aoi_test) \\\n",
        "                       .filterDate(ee.Date('2019-01-01'), ee.Date('2019-12-31'))\n",
        "colList = ffa_s2.toList(10)\n",
        "\n",
        "ffa_db2_test = ee.Image(ee.ImageCollection('COPERNICUS/S2') \n",
        "                       .filterBounds(aoi_test) \n",
        "                       .filterDate(ee.Date('2019-01-01'), ee.Date('2019-12-31')) \n",
        "                       .first()\n",
        "                       .clip(aoi_test))\n",
        "\n",
        "img = ee.Image(colList.get(0)).double().clip(aoi_test)\n",
        "\n",
        "#rgb = ['B4','B3','B2']\n",
        "#url = ffa_db2_test.getThumbURL({\"min\":0, \"max\":3000,\"bands\":rgb})\n",
        "\n",
        "url = img.select('QA60').getThumbURL({'min': -50, 'max': 50})\n",
        "disp.Image(url=url, width = 700)"
      ],
      "metadata": {
        "colab": {
          "base_uri": "https://localhost:8080/",
          "height": 366
        },
        "id": "NHXTG4UOPXX5",
        "outputId": "23dd0bbd-6456-4605-b239-e6a65c20d004"
      },
      "execution_count": null,
      "outputs": [
        {
          "output_type": "execute_result",
          "data": {
            "text/html": [
              "<img src=\"https://earthengine.googleapis.com/v1alpha/projects/earthengine-legacy/thumbnails/3697929fa1428c1c47c707f2afb7121c-ffa406e484621de114dfa6f6c71cbd07:getPixels\" width=\"700\"/>"
            ],
            "text/plain": [
              "<IPython.core.display.Image object>"
            ]
          },
          "metadata": {},
          "execution_count": 155
        }
      ]
    },
    {
      "cell_type": "code",
      "source": [
        "bands_s2 = ffa_db2.bandNames().getInfo()\n",
        "aux =  bands_s2.copy();\n",
        "for x in aux:\n",
        "  if x in ['QA20','QA10','QA60','B10']:\n",
        "    bands_s2.remove(x) #bands_s2.remove(['QA10','QA20','QA60','B10'])\n",
        "bands_s2.append('RGB')\n",
        "\n",
        "min = [0] * len(bands_s2)\n",
        "max = [2700, 3000, 3000, 3000, 3000, 3000, 3000, 3000, 3000, 2000, 3200, 2500, 3000]\n",
        "print(len(max))\n",
        "print(len(min))\n",
        "print(bands_s2)"
      ],
      "metadata": {
        "colab": {
          "base_uri": "https://localhost:8080/"
        },
        "id": "obhzgcr2D7io",
        "outputId": "04d5e5b2-069e-4764-8ba3-9ce7cb44f32e"
      },
      "execution_count": null,
      "outputs": [
        {
          "output_type": "stream",
          "name": "stdout",
          "text": [
            "13\n",
            "13\n",
            "['B1', 'B2', 'B3', 'B4', 'B5', 'B6', 'B7', 'B8', 'B8A', 'B9', 'B11', 'B12', 'RGB']\n"
          ]
        }
      ]
    },
    {
      "cell_type": "code",
      "source": [
        "ffa_s = ee.ImageCollection('COPERNICUS/S1_GRD') \\\n",
        "                       .filterBounds(aoi1) \\\n",
        "                       .filterDate(ee.Date('2022-01-07'), ee.Date('2022-04-07'))\n",
        "\n",
        "colList = ffa_s.toList(ffa_s.size());       \n",
        "\n",
        "i = 1330\n",
        "img = ee.Image(colList.get(i)).double().clip(aoi1)\n",
        "\n",
        "#id = img.id().getInfo()\n",
        "\n"
      ],
      "metadata": {
        "id": "0so9kB3uOdFR"
      },
      "execution_count": null,
      "outputs": []
    }
  ]
}