{
 "cells": [
  {
   "cell_type": "markdown",
   "metadata": {
    "colab_type": "text",
    "id": "view-in-github"
   },
   "source": [
    "<a href=\"https://colab.research.google.com/github/MarioRMReis/Sentinel_Images/blob/main/EE_ImageRequest_UsingGoogledrive.ipynb\" target=\"_parent\"><img src=\"https://colab.research.google.com/assets/colab-badge.svg\" alt=\"Open In Colab\"/></a>"
   ]
  },
  {
   "cell_type": "markdown",
   "metadata": {
    "id": "VuNN2iOlCsVQ"
   },
   "source": [
    "# Install the missing libraries in colab"
   ]
  },
  {
   "cell_type": "code",
   "execution_count": null,
   "metadata": {
    "id": "f6LvjCzECrw5"
   },
   "outputs": [],
   "source": [
    "!pip install geemap\n",
    "!pip install pykml"
   ]
  },
  {
   "cell_type": "markdown",
   "metadata": {
    "id": "HowUp86goEYi"
   },
   "source": [
    "# Import the required libraries"
   ]
  },
  {
   "cell_type": "code",
   "execution_count": 2,
   "metadata": {
    "id": "eFRcsT87oDjZ"
   },
   "outputs": [],
   "source": [
    "import matplotlib.pyplot as plt\n",
    "import numpy as np\n",
    "from scipy.stats import norm, gamma, f, chi2\n",
    "import IPython.display as disp\n",
    "import geemap\n",
    "import os\n",
    "import cv2\n",
    "import requests\n",
    "import math\n",
    "from pykml import parser\n",
    "%matplotlib inline"
   ]
  },
  {
   "cell_type": "markdown",
   "metadata": {
    "id": "CdSvTPdtDqu5"
   },
   "source": [
    "# Connect the drive"
   ]
  },
  {
   "cell_type": "code",
   "execution_count": 3,
   "metadata": {
    "colab": {
     "base_uri": "https://localhost:8080/"
    },
    "id": "Amz7ZrxJDq7Q",
    "outputId": "15d0bddd-96c9-4828-b55e-897a573e43fa"
   },
   "outputs": [
    {
     "name": "stdout",
     "output_type": "stream",
     "text": [
      "Mounted at /content/drive\n"
     ]
    }
   ],
   "source": [
    "from google.colab import drive\n",
    "drive.mount('/content/drive')"
   ]
  },
  {
   "cell_type": "markdown",
   "metadata": {
    "id": "YGQnEhjdn8Ep"
   },
   "source": [
    "# Log-in into Earth Engine\n",
    "\n",
    "\n",
    "> Clic the link and get the verification code, paste it and hit enter\n",
    "\n"
   ]
  },
  {
   "cell_type": "code",
   "execution_count": 4,
   "metadata": {
    "colab": {
     "base_uri": "https://localhost:8080/"
    },
    "id": "KPjeYedunwJ8",
    "outputId": "4964217c-09b3-46a6-cb30-7bc6c24b9a22"
   },
   "outputs": [
    {
     "name": "stdout",
     "output_type": "stream",
     "text": [
      "To authorize access needed by Earth Engine, open the following URL in a web browser and follow the instructions. If the web browser does not start automatically, please manually browse the URL below.\n",
      "\n",
      "    https://code.earthengine.google.com/client-auth?scopes=https%3A//www.googleapis.com/auth/earthengine%20https%3A//www.googleapis.com/auth/devstorage.full_control&request_id=9Yeo13vrJkEKU7FMjk2qBWMO3QL4vD7BhZT--RBfygg&tc=CupOwFPps4DOYfzo02beIcd-ZbiuGedN4WrNredpwsM&cc=hkP8B-nWwYBbjG6_C5uO5ekEQtxyoP5mVbGody5eY2I\n",
      "\n",
      "The authorization workflow will generate a code, which you should paste in the box below.\n",
      "Enter verification code: 4/1AVHEtk4Q0xCzSpOnhybF3017KyZCkVhYH9bgbaR0OpKWLkrno3nRJ0_JqmI\n",
      "\n",
      "Successfully saved authorization token.\n"
     ]
    }
   ],
   "source": [
    "import ee\n",
    "# Trigger the authentication flow.\n",
    "ee.Authenticate()\n",
    " \n",
    "# Initialize the library.\n",
    "ee.Initialize()"
   ]
  },
  {
   "cell_type": "markdown",
   "metadata": {
    "id": "tKWKG52doBZo"
   },
   "source": [
    "# Parameters for the image request (C: drive path, Starting data, Ending date, Max number of images)"
   ]
  },
  {
   "cell_type": "code",
   "execution_count": 78,
   "metadata": {
    "id": "7rePzoJOoYoV"
   },
   "outputs": [],
   "source": [
    "C_drivePath = '/content/drive/MyDrive/'\n",
    "folder_dataset = C_drivePath + 'Sentinel/dataset'\n",
    "starting_date = '2017-01-01' # Start - Interval wanted \n",
    "ending_date = '2023-12-31'  # End - Interval wanter\n",
    "\n",
    "# starting_date = '2017-01-01' # Using year by year\n",
    "# ending_date = '2018-12-31'\n",
    "\n",
    "nimgs = 2190"
   ]
  },
  {
   "cell_type": "markdown",
   "metadata": {
    "id": "_T986WywpEh6"
   },
   "source": [
    "# Read KML files and extract all regions of interest "
   ]
  },
  {
   "cell_type": "code",
   "execution_count": 79,
   "metadata": {
    "colab": {
     "base_uri": "https://localhost:8080/"
    },
    "id": "2Rz5m0AypEp3",
    "outputId": "7c4c8ea8-94ba-4c8c-aca9-890856ac3447"
   },
   "outputs": [
    {
     "name": "stdout",
     "output_type": "stream",
     "text": [
      "\n",
      "\t\t\t\t\t\n",
      "\n",
      "\t\t\t\t\t\n"
     ]
    }
   ],
   "source": [
    "aois = []\n",
    "aoi_names = []\n",
    "kml_files = os.listdir(C_drivePath + 'Sentinel/roi/')\n",
    "\n",
    "for kml in kml_files:\n",
    "  with open(C_drivePath + 'Sentinel/roi/' + kml, 'r') as f:\n",
    "    root = parser.parse(f).getroot()\n",
    "  namespace = {\"kml\": 'http://www.opengis.net/kml/2.2'}\n",
    "  pms = root.xpath(\".//kml:Placemark[.//kml:Polygon]\", namespaces=namespace)\n",
    "  roi_string = []\n",
    "  for p in pms:\n",
    "    if hasattr(p, 'MultiGeometry'):\n",
    "      for poly in p.MultiGeometry.Polygon:\n",
    "        roi_string.append(poly.outerBoundaryIs.LinearRing.coordinates)\n",
    "    else:\n",
    "      roi_string.append(p.Polygon.outerBoundaryIs.LinearRing.coordinates)\n",
    "\n",
    "  dot = kml_files[0].find('.')\n",
    "  name_kml = kml_files[0][:dot] + '-'\n",
    "  for jdx, r in enumerate(roi_string):\n",
    "    aoi_names.append(name_kml + str(jdx))\n",
    "    roi_str = str(r).split(' ')\n",
    "    aux = []\n",
    "    for idx, rs in enumerate(roi_str):\n",
    "      if idx == 0:\n",
    "        n = rs[7::].split(',')\n",
    "        aux.append([float(n[i]) for i in range(len(n)-1)])\n",
    "      elif idx == (len(roi_str)-1): \n",
    "        print(rs)\n",
    "      else:\n",
    "        n = rs.split(',')\n",
    "        aux.append([float(n[i]) for i in range(len(n)-1)])\n",
    "    aois.append([aux])"
   ]
  },
  {
   "cell_type": "markdown",
   "metadata": {
    "id": "gxFbWuilUFew"
   },
   "source": [
    "# Get the fitted Area Of Interest for a 128x128 \n",
    "> The aoi will be at the center of the 128x128 image\n",
    "\n"
   ]
  },
  {
   "cell_type": "code",
   "execution_count": 81,
   "metadata": {
    "id": "FZknzGlGUd2x"
   },
   "outputs": [],
   "source": [
    "def get_squares(aois):\n",
    "    # 0.011377373345324189 0.014894925631009616 -> Height, Width\n",
    "    S128 = [0.014854925631009616, 0.011377373345324189]\n",
    "    new_aois = []\n",
    "    h_aux = S128[1]/2\n",
    "    w_aux = S128[0]/2\n",
    "\n",
    "    for aoi in aois:\n",
    "      # Find centeroid ----------------------------\n",
    "      siz = len(aoi[0])\n",
    "      list_width = []\n",
    "      list_height = []\n",
    "      for i in range(siz): \n",
    "        list_width.append(aoi[0][i][0])\n",
    "        list_height.append(aoi[0][i][1])\n",
    "\n",
    "      max_width = max(list_width)\n",
    "      min_width = min(list_width)\n",
    "      max_height = max(list_height)\n",
    "      min_height = min(list_height)\n",
    "      \n",
    "      centroid_width = (max_width+min_width)/2\n",
    "      centroid_height = (max_height+min_height)/2\n",
    "\n",
    "      aoi_new = [[[(centroid_width-w_aux), (centroid_height+h_aux)], [(centroid_width-w_aux), (centroid_height-h_aux)], [(centroid_width+w_aux), (centroid_height-h_aux)], [(centroid_width+w_aux), (centroid_height+h_aux)]]]\n",
    "      #inside, split_aois = check_if_inside(aoi_new, aoi)\n",
    "      #if inside:\n",
    "      new_aois.append(aoi_new)\n",
    "      size = [128,128]\n",
    "      #else:\n",
    "        #for saois in split_aois:\n",
    "          #new_aois.append(saois)\n",
    "\n",
    "      \n",
    "      #ans = image_ratio(S128, [list_width, list_height])\n",
    "    return new_aois, size"
   ]
  },
  {
   "cell_type": "markdown",
   "metadata": {
    "id": "c1r2AB24sRQ-"
   },
   "source": [
    "# For all AOIs Create the mask and save it in the mask folder for the aoi"
   ]
  },
  {
   "cell_type": "code",
   "execution_count": null,
   "metadata": {
    "id": "TSZnVmT8RyRG"
   },
   "outputs": [],
   "source": [
    "def get_mask(path, aoi, size):\n",
    "  # Inputs:\n",
    "  #     - path -> path to the aoi saved images\n",
    "  #     - aoi -> Area of interest of the landfield\n",
    "  #     - size = [sizeX, sizeY] -> size of the mask, (ie: 128x128, 256x256, 354x128...)\n",
    "  aoi_mask = ee.Geometry.Polygon(aoi,None,False)\n",
    "  ffa_s2 = ee.ImageCollection('COPERNICUS/S2') \\\n",
    "                        .filterBounds(aoi_mask) \\\n",
    "                        .filterDate(ee.Date(starting_date), ee.Date(ending_date))\n",
    "  colList = ffa_s2.toList(30)\n",
    "  # This part get's the land area image needed to create the mask --------------\n",
    "  img = ee.Image(colList.get(17)).double().clip(aoi_mask)\n",
    "  rgb = ['B4','B3','B2']\n",
    "  url = img.getThumbURL({\"min\":-200000, \"max\":-200000,\"bands\":rgb})\n",
    "\n",
    "  img_data = requests.get(url).content\n",
    "\n",
    "  img_aux = cv2.imdecode(np.frombuffer(img_data, np.uint8), -1)\n",
    "\n",
    "  # Create mask ----------------------------------------------------------------\n",
    "  # img_aux.shape -> [x,y,z]\n",
    "  x = img_aux.shape[0]\n",
    "  y = img_aux.shape[1]\n",
    "  x_sum = math.ceil((size[0]-x)/2)\n",
    "  y_sum = math.ceil((size[1]-y)/2)\n",
    "\n",
    "  img_zeros = np.zeros([size[0], size[1], 3])\n",
    "  img_zeros[x_sum:(x_sum+x), y_sum:(y_sum+y), :] = img_aux[:,:,0:3]\n",
    "  try:\n",
    "    os.makedirs(path)\n",
    "    cv2.imwrite(path +'mask.jpg', img_zeros)\n",
    "  except:\n",
    "    cv2.imwrite(path +'mask.jpg', img_zeros)"
   ]
  },
  {
   "cell_type": "code",
   "execution_count": null,
   "metadata": {
    "id": "-enu_OJVsb4i"
   },
   "outputs": [],
   "source": [
    "aoi_square, size =  get_squares(aois)\n",
    "\n",
    "for idx, a in enumerate(aois):\n",
    "  path = folder_dataset + '/' + aoi_names[idx] + '/Mask/'\n",
    "  get_mask(path, a, size)"
   ]
  },
  {
   "cell_type": "markdown",
   "metadata": {
    "id": "gIMJ1nFQVK99"
   },
   "source": [
    "# Extract Images from Sentinel-1"
   ]
  },
  {
   "cell_type": "code",
   "execution_count": null,
   "metadata": {
    "id": "iW0CpytsVVwn"
   },
   "outputs": [],
   "source": [
    "def ExportCol_Sentinel1(roi, channel, min, max, idx, jdx):\n",
    "  try:\n",
    "    for i in range(0,nimgs,1):\n",
    "      aoi_geometry = ee.Geometry.Polygon(roi ,None,False)\n",
    "      ffa_s = ee.ImageCollection('COPERNICUS/S1_GRD') \\\n",
    "                        .filterBounds(aoi_geometry) \\\n",
    "                        .filterDate(ee.Date(starting_date), ee.Date(ending_date))\n",
    "                        \n",
    "      colList = ffa_s.toList(nimgs); \n",
    "\n",
    "      img = ee.Image(colList.get(i)).double().clip(aoi_geometry)\n",
    "      # Exeption beacause to get a RGB channel with the Sentinel-1 we need to correspond each channel and compute the last\n",
    "      if channel == 'RGB':\n",
    "        imgR = img.select('VV')\n",
    "        imgG = img.select('VH')\n",
    "        imgB = img.select('VV').divide(img.select('VH'))\n",
    "        url = ee.Image.rgb(imgR,imgG,imgB).getThumbURL({'min': [min[0], min[1], 0], 'max': [0, 0, 2]})\n",
    "      else:\n",
    "        url = img.select(channel).getThumbURL({'min': min[jdx], 'max': max[jdx]})\n",
    "\n",
    "      id = img.id().getInfo()\n",
    "\n",
    "      img_data = requests.get(url).content\n",
    "\n",
    "      path = folder_dataset + '/' + aoi_names[idx] + '/Sentinel-1/' + id + '/'\n",
    "      # Creates the folder but the flag need to be turned off beacause it will try to makedir after the creation\n",
    "      try:\n",
    "        os.makedirs(path)\n",
    "        with open(path  + channel + '.tiff', 'wb') as handler:\n",
    "          handler.write(img_data)\n",
    "          #create_folders = False\n",
    "      except:\n",
    "        # This just saves the image in the correct folder with the name 'id' (var->'id')\n",
    "        with open(path + channel + '.tiff', 'wb') as handler:\n",
    "          handler.write(img_data)\n",
    "  except:\n",
    "    return"
   ]
  },
  {
   "cell_type": "markdown",
   "metadata": {
    "id": "1-EWP1JCVqIE"
   },
   "source": [
    "\n",
    "\n",
    "> The request of the images from Sentinel-1 all aoi's \n",
    "\n"
   ]
  },
  {
   "cell_type": "code",
   "execution_count": null,
   "metadata": {
    "id": "d2sqpcu5VpsC"
   },
   "outputs": [],
   "source": [
    "aoi_bands = ee.Geometry.Polygon(aois[0],None,False)\n",
    "\n",
    "ffa_db = ee.Image(ee.ImageCollection('COPERNICUS/S1_GRD') \n",
    "                       .filterBounds(aoi_bands)\n",
    "                       .first() \n",
    "                       .clip(aoi_bands))\n",
    "\n",
    "# Variables needed to save images\n",
    "bands_s1 = ffa_db.bandNames().getInfo()\n",
    "bands_s1.remove('angle')\n",
    "bands_s1.append('RGB')\n",
    "\n",
    "# Defined values to be the best for these bands\n",
    "min = [-14, -25]\n",
    "max = [-7] * 2\n",
    "#-------------------\n",
    "for idx, a in enumerate(aoi_square):\n",
    "  for jdx, b in enumerate(bands_s1):\n",
    "\n",
    "    ExportCol_Sentinel1(a, b, min, max, idx, jdx)"
   ]
  },
  {
   "cell_type": "markdown",
   "metadata": {
    "id": "dmZZpVaeWs9P"
   },
   "source": [
    "# Extract images from Sentinel-2"
   ]
  },
  {
   "cell_type": "code",
   "execution_count": null,
   "metadata": {
    "id": "nhakoLQRW3Jj"
   },
   "outputs": [],
   "source": [
    "def ExportCol_Sentinel2(roi, channel,  min, max, idx, jdx, percentage, incomplete_images):\n",
    "  for i in range(0,nimgs,1):\n",
    "    try:\n",
    "      aoi_geometry = ee.Geometry.Polygon(roi ,None,False)\n",
    "      ffa_s = ee.ImageCollection('COPERNICUS/S2') \\\n",
    "                        .filterBounds(aoi_geometry) \\\n",
    "                        .filterDate(ee.Date(starting_date), ee.Date(ending_date)) \\\n",
    "                        .filter(ee.Filter.lt('CLOUDY_PIXEL_PERCENTAGE', 20))\n",
    "      colList = ffa_s.toList(ffa_s.size());                   \n",
    "\n",
    "      img = ee.Image(colList.get(i)).double().clip(aoi_geometry)\n",
    "      # Exeption beacause to get a RGB channel with the Sentinel-1 we need to correspond each channel and compute the last\n",
    "      if channel == 'RGB':\n",
    "        rgb = ['B4','B3','B2']\n",
    "        url = img.getThumbURL({\"min\":min[jdx], \"max\":max[jdx],\"bands\":rgb})\n",
    "      else:\n",
    "        url = img.getThumbURL({\"min\":min[jdx], \"max\":max[jdx],\"bands\":channel})\n",
    "\n",
    "      id = img.id().getInfo()\n",
    "      id_short = id[16::]\n",
    "\n",
    "      img_data = requests.get(url).content\n",
    "      \n",
    "      # Check the image\n",
    "      if channel == 'B2':\n",
    "        img_idx = Check_image(i, img_data, percentage)\n",
    "        if img_idx != None:\n",
    "          incomplete_images.append(img_idx)\n",
    "      \n",
    "      # Image path\n",
    "      path = folder_dataset + '/' + aoi_names[idx] + '/Sentinel-2/' + id_short + '/'\n",
    "\n",
    "      if i not in incomplete_images:\n",
    "        # Creates the folder but the flag need to be turned off beacause it will try to makedir after the creation\n",
    "        try:\n",
    "          os.makedirs(path)\n",
    "          with open(path + channel + '.tiff', 'wb') as handler:\n",
    "            handler.write(img_data)\n",
    "        except:\n",
    "          # This just saves the image in the correct folder with the name 'id' (var->'id')\n",
    "          with open(path + channel + '.tiff', 'wb') as handler:\n",
    "            handler.write(img_data)\n",
    "      else:\n",
    "        path = path = folder_dataset + '/review/' + aoi_names[idx] + '/' + id_short + '/'\n",
    "        try:\n",
    "          os.makedirs(path)\n",
    "          with open(path + channel + '.tiff', 'wb') as handler:\n",
    "            handler.write(img_data)\n",
    "        except:\n",
    "          # This just saves the image in the correct folder with the name 'id' (var->'id')\n",
    "          with open(path + channel + '.tiff', 'wb') as handler:\n",
    "            handler.write(img_data)\n",
    "\n",
    "    except:\n",
    "      if channel == 'B2':\n",
    "        return incomplete_images\n",
    "      else:\n",
    "        return"
   ]
  },
  {
   "cell_type": "markdown",
   "metadata": {
    "id": "xw5DDVdrAl2f"
   },
   "source": [
    "\n",
    "\n",
    "> Function that evaluetes the percentage of image incomplete by counting the amout of pixels that are zero, it's perfectly ok to have some images that have pixels equal to zero to acount for this we are going to give it a margin like 99% complete even that 1% it's not alot of pixels. Might be lower depending on the results."
   ]
  },
  {
   "cell_type": "code",
   "execution_count": null,
   "metadata": {
    "id": "k7AUbsuXA3dI"
   },
   "outputs": [],
   "source": [
    "def Check_image(idx, image, percentage):\n",
    "  # B2 - using this band\n",
    "  decoded = cv2.imdecode(np.frombuffer(img_data, np.uint8), -1)\n",
    "  nonZero_percentage = ((np.count_nonzero(decoded)*100)/decoded.size)\n",
    "\n",
    "  if nonZero_percentage < percentage:\n",
    "    return idx\n",
    "  else:\n",
    "    return"
   ]
  },
  {
   "cell_type": "markdown",
   "metadata": {
    "id": "Z48Te4gmXAa3"
   },
   "source": [
    "\n",
    "\n",
    "> The request, cloud coverage < 20% \n",
    "\n"
   ]
  },
  {
   "cell_type": "code",
   "execution_count": null,
   "metadata": {
    "id": "Y5iwvvckXMYk"
   },
   "outputs": [],
   "source": [
    "aoi_bands = ee.Geometry.Polygon(aois[0],None,False)\n",
    "\n",
    "ffa_s2 = ee.Image(ee.ImageCollection('COPERNICUS/S2') \n",
    "                       .filterBounds(aoi_bands) \n",
    "                       .first() \n",
    "                       .clip(aoi_bands))\n",
    "\n",
    "bands_s2 = ffa_s2.bandNames().getInfo()\n",
    "aux_bands_s2 =  bands_s2.copy();\n",
    "for x in aux_bands_s2: \n",
    "  if x in  ['QA10','QA20','QA60','B10']: \n",
    "    bands_s2.remove(x) #bands_s2.remove(['QA10','QA20','QA60','B10'])\n",
    "bands_s2.append('RGB')\n",
    "\n",
    "# Defined best values for these bands\n",
    "min = [0] * len(bands_s2)\n",
    "max = [2700, 3000, 3000, 3000, 3000, 3000, 3000, 3000, 3000, 2000, 3200, 2500, 3000]\n",
    "\n",
    "bands_s2.insert(0,bands_s2.pop(bands_s2.index('B2')))\n",
    "\n",
    "for idx, a in enumerate(aoi_square):\n",
    "  for jdx, b in enumerate(bands_s2):\n",
    "    if b == 'B2':\n",
    "      incomplete_images = []\n",
    "      incomplete_images_B2 =ExportCol_Sentinel2(a, b, min, max, idx, jdx, 99, incomplete_images)\n",
    "    else:\n",
    "      ExportCol_Sentinel2(a, b, min, max, idx, jdx, 99, incomplete_images_B2)"
   ]
  }
 ],
 "metadata": {
  "colab": {
   "authorship_tag": "ABX9TyMw2HO4FUeaTk13IV5YgIfY",
   "include_colab_link": true,
   "provenance": []
  },
  "kernelspec": {
   "display_name": "Python 3",
   "name": "python3"
  },
  "language_info": {
   "name": "python"
  }
 },
 "nbformat": 4,
 "nbformat_minor": 0
}
