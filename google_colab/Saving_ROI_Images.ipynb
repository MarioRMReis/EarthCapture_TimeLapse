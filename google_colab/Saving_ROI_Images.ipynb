{
  "nbformat": 4,
  "nbformat_minor": 0,
  "metadata": {
    "colab": {
      "provenance": [],
      "authorship_tag": "ABX9TyN5BWdoszj2YVoAxxvk11sA",
      "include_colab_link": true
    },
    "kernelspec": {
      "name": "python3",
      "display_name": "Python 3"
    },
    "language_info": {
      "name": "python"
    }
  },
  "cells": [
    {
      "cell_type": "markdown",
      "metadata": {
        "id": "view-in-github",
        "colab_type": "text"
      },
      "source": [
        "<a href=\"https://colab.research.google.com/github/MarioRMReis/Sentinel_Images/blob/main/Saving_ROI_Images.ipynb\" target=\"_parent\"><img src=\"https://colab.research.google.com/assets/colab-badge.svg\" alt=\"Open In Colab\"/></a>"
      ]
    },
    {
      "cell_type": "markdown",
      "source": [
        "# How to request and save an image given a region of interest.\n",
        "\n",
        "*   First we need to acess and authenticate the EarthEngine library.\n",
        "\n",
        "Alot of usefull information here (it's not in python):\n",
        "[End-to-End Google Earth Engine](https://courses.spatialthoughts.com/end-to-end-gee.html)"
      ],
      "metadata": {
        "id": "EuSkC2YqSLl-"
      }
    },
    {
      "cell_type": "code",
      "execution_count": null,
      "metadata": {
        "colab": {
          "base_uri": "https://localhost:8080/",
          "height": 200
        },
        "id": "7M7Iso-zSKq5",
        "outputId": "ba9a8e8e-db0c-480c-bde5-5b22fc8e0209"
      },
      "outputs": [
        {
          "output_type": "display_data",
          "data": {
            "text/plain": [
              "<IPython.core.display.HTML object>"
            ],
            "text/html": [
              "<p>To authorize access needed by Earth Engine, open the following\n",
              "        URL in a web browser and follow the instructions:</p>\n",
              "        <p><a href=https://code.earthengine.google.com/client-auth?scopes=https%3A//www.googleapis.com/auth/earthengine%20https%3A//www.googleapis.com/auth/devstorage.full_control&request_id=2OxAjyyU8tVGvzZywZm7cLFMvatlHVgRyupB0xIICbs&tc=PQD26rvlPVJGgSHjVwAZ7k2UJnYjC7s2PJCMij6oGpM&cc=MBSl6bw6QZz5d-vxP7n6hRU4ofExhklZ3XMutZxgPGg>https://code.earthengine.google.com/client-auth?scopes=https%3A//www.googleapis.com/auth/earthengine%20https%3A//www.googleapis.com/auth/devstorage.full_control&request_id=2OxAjyyU8tVGvzZywZm7cLFMvatlHVgRyupB0xIICbs&tc=PQD26rvlPVJGgSHjVwAZ7k2UJnYjC7s2PJCMij6oGpM&cc=MBSl6bw6QZz5d-vxP7n6hRU4ofExhklZ3XMutZxgPGg</a></p>\n",
              "        <p>The authorization workflow will generate a code, which you should paste in the box below.</p>\n",
              "        "
            ]
          },
          "metadata": {}
        },
        {
          "output_type": "stream",
          "name": "stdout",
          "text": [
            "Enter verification code: 4/1AVHEtk5_yPDQFkoBCAEZRHp8TCncOX0om9pEjgXQcY8rl5B97hPUPXZUyiY\n",
            "\n",
            "Successfully saved authorization token.\n"
          ]
        }
      ],
      "source": [
        "import ee\n",
        "# Trigger the authentication flow.\n",
        "ee.Authenticate()\n",
        " \n",
        "# Initialize the library.\n",
        "ee.Initialize()"
      ]
    },
    {
      "cell_type": "markdown",
      "source": [
        "\n",
        "*   Import the required libraries"
      ],
      "metadata": {
        "id": "sEqrGntgTJ1A"
      }
    },
    {
      "cell_type": "code",
      "source": [
        "import IPython.display as disp\n",
        "import requests"
      ],
      "metadata": {
        "id": "xqjwut6qTQto"
      },
      "execution_count": null,
      "outputs": []
    },
    {
      "cell_type": "markdown",
      "source": [
        "*   If we are saving in a drive we got to mount the disired drive\n",
        "\n"
      ],
      "metadata": {
        "id": "eVEUguVLTRGa"
      }
    },
    {
      "cell_type": "code",
      "source": [
        "from google.colab import drive\n",
        "drive.mount('/content/drive')"
      ],
      "metadata": {
        "id": "lxnln84lTgfP"
      },
      "execution_count": null,
      "outputs": []
    },
    {
      "cell_type": "markdown",
      "source": [
        "1.  Get the region of interest. To get your region of interest you have to manually select it on the \n",
        "earth engine code editor. You can draw your shape in the map and copy the region on generated code. This generator code can be acessed in the blue button with stripes in the script. \n",
        "2.  Create the earth engine geometry\n",
        " \n",
        "\n",
        "\n"
      ],
      "metadata": {
        "id": "67gZDA9ATjRI"
      }
    },
    {
      "cell_type": "code",
      "source": [
        "# Region of Interest\n",
        "roi = [[[-8.421062763693714, 40.20042086772547],\n",
        "          [-8.421062763693714, 40.186914835987146],\n",
        "          [-8.402523334982776, 40.186914835987146],\n",
        "          [-8.402523334982776, 40.20042086772547]]]\n",
        "\n",
        "roi_geometry = ee.Geometry.Polygon(roi,None,False)"
      ],
      "metadata": {
        "id": "gDH7BIgaTjbA"
      },
      "execution_count": null,
      "outputs": []
    },
    {
      "cell_type": "markdown",
      "source": [
        "1.   Create the **image collection**, for this example we are going to use 'COPERNICUS/S2' there are more you can choose from. You need to **filter the bounds** of your collection with your region's geometry\n",
        "2.   Select the image you want, you can select all from a given data range. Of the image colection you can also just get the first image or a list of images you can select from. after selecting the image clip it with your geomety.\n",
        "3.   To get the image we are going to use **getThumbURL** that outputs the url of the image. The image requires **min, max** and the **band** you are interested in or the **RGB**, as shown.\n",
        "4.   To verify the the image requested you can use the disp command. (Increase or decrease the width to magnify the image)"
      ],
      "metadata": {
        "id": "3jWLrxh1VSGf"
      }
    },
    {
      "cell_type": "code",
      "source": [
        "ImageCollection = ee.ImageCollection('COPERNICUS/S2')\\\n",
        "                        .filterBounds(roi_geometry)\n",
        "\n",
        "First_Image = ee.Image(ImageCollection.first()).clip(roi_geometry)\n",
        "\n",
        "rgb = ['B4', 'B3', 'B2']\n",
        "url = First_Image.getThumbURL({\"min\":0, \"max\":2000,\"bands\":rgb})\n",
        "\n",
        "disp.Image(url=url, width = 400)"
      ],
      "metadata": {
        "colab": {
          "base_uri": "https://localhost:8080/",
          "height": 401
        },
        "id": "7eVxnn_NVSOk",
        "outputId": "b23a7014-520c-4bd7-8480-3ade2ee04881"
      },
      "execution_count": null,
      "outputs": [
        {
          "output_type": "execute_result",
          "data": {
            "text/html": [
              "<img src=\"https://earthengine.googleapis.com/v1alpha/projects/earthengine-legacy/thumbnails/878be9e11dd06f137bd1c4c345f9c806-69821d69cf77c990ab3f6ed83a55f310:getPixels\" width=\"400\"/>"
            ],
            "text/plain": [
              "<IPython.core.display.Image object>"
            ]
          },
          "metadata": {},
          "execution_count": 16
        }
      ]
    },
    {
      "cell_type": "markdown",
      "source": [
        "*   Saving the image\n",
        "\n",
        "Saving localy or in the drive can be done in the same fashion you just need to change the path (dont forget to mount the drive in that case). \n",
        "\n",
        "The id of the image is created diferently depending on the satelite and other factors, it contains usefull information as the creation date you can find more information about the one you are using online. For this one the **id** is **YYYYMMDDThhmmss_YYYYMMDDThhmmss_T29TNE** the fisrt set is the (year month day T hour minute second) start of the sensing and the last its the stop, the last set it's corresponding of the tyle or sector of the image.\n",
        "\n",
        "Using the **requests** we can get the content of the URL, the image comes in **'bytes'**. To save it open the path with the desired name and write the data. The image type was saved in **jpg** but you can change it to others like **tiff** or **png**.\n",
        "\n"
      ],
      "metadata": {
        "id": "jD91Qzz_b6Ra"
      }
    },
    {
      "cell_type": "code",
      "source": [
        "path_drive = '/content/drive/MyDrive/'\n",
        "path_local = 'C:/Users/mario/Documents/Mario/Sentinel'\n",
        "\n",
        "id = First_Image.id().getInfo()\n",
        "\n",
        "img_data = requests.get(url).content\n",
        "\n",
        "with open(path + '/' + id +'.jpg', 'wb') as handler:\n",
        "  handler.write(img_data)"
      ],
      "metadata": {
        "id": "qcSZYlV8b4mt"
      },
      "execution_count": null,
      "outputs": []
    },
    {
      "cell_type": "markdown",
      "source": [
        "*   You have other options when it comes to fitering the image collection you are creating.\n",
        "1.   Filtering a start and stop date for the selection of images.\n",
        "  *   As we can see the the first image of the lot is all white, it's due to the cloud coverage\n",
        "\n",
        "\n",
        "\n",
        "\n"
      ],
      "metadata": {
        "id": "CyRyyR_ZfPSZ"
      }
    },
    {
      "cell_type": "code",
      "source": [
        "start_date = '2017-01-01'\n",
        "end_date = '2023-12-31'\n",
        "\n",
        "ImageCollection = ee.ImageCollection('COPERNICUS/S2')\\\n",
        "                        .filterBounds(roi_geometry)\\\n",
        "                        .filterDate(ee.Date(start_date), ee.Date(end_date))\n",
        "\n",
        "First_Image = ee.Image(ImageCollection.first()).clip(roi_geometry)\n",
        "\n",
        "rgb = ['B4', 'B3', 'B2']\n",
        "url = First_Image.getThumbURL({\"min\":0, \"max\":2000,\"bands\":rgb})\n",
        "\n",
        "disp.Image(url=url, width = 300)"
      ],
      "metadata": {
        "colab": {
          "base_uri": "https://localhost:8080/",
          "height": 306
        },
        "id": "P8JFFqPzfOxH",
        "outputId": "a00a4e05-4897-4840-ba16-3840fa2d4080"
      },
      "execution_count": null,
      "outputs": [
        {
          "output_type": "execute_result",
          "data": {
            "text/html": [
              "<img src=\"https://earthengine.googleapis.com/v1alpha/projects/earthengine-legacy/thumbnails/60869b50b83f432994df5189fbda08f2-4bf9a30ba9e744c156591cab3f94d879:getPixels\" width=\"300\"/>"
            ],
            "text/plain": [
              "<IPython.core.display.Image object>"
            ]
          },
          "metadata": {},
          "execution_count": 35
        }
      ]
    },
    {
      "cell_type": "markdown",
      "source": [
        "*   Using the filter 'CLOUDY_PIXEL_PERCENTAGE' we can deselect the images that have a percentage of clouds higher then 10%\n"
      ],
      "metadata": {
        "id": "_fazsVWdgEg8"
      }
    },
    {
      "cell_type": "code",
      "source": [
        "start_date = '2017-01-01'\n",
        "end_date = '2023-12-31'\n",
        "\n",
        "ImageCollection = ee.ImageCollection('COPERNICUS/S2')\\\n",
        "                        .filterBounds(roi_geometry)\\\n",
        "                        .filterDate(ee.Date('2017-02-01'), ee.Date('2023-12-31'))\\\n",
        "                        .filter(ee.Filter.lt('CLOUDY_PIXEL_PERCENTAGE', 10))\n",
        "\n",
        "First_Image = ee.Image(ImageCollection.first()).clip(roi_geometry)\n",
        "\n",
        "rgb = ['B4', 'B3', 'B2']\n",
        "url = First_Image.getThumbURL({\"min\":0, \"max\":2000,\"bands\":rgb})\n",
        "\n",
        "disp.Image(url=url, width = 300)"
      ],
      "metadata": {
        "colab": {
          "base_uri": "https://localhost:8080/",
          "height": 306
        },
        "id": "M8NTc_Shf-DL",
        "outputId": "d115c50b-36bc-4dce-cda9-00531d090ff7"
      },
      "execution_count": null,
      "outputs": [
        {
          "output_type": "execute_result",
          "data": {
            "text/html": [
              "<img src=\"https://earthengine.googleapis.com/v1alpha/projects/earthengine-legacy/thumbnails/8ee0ae5079e161c0901cf7e926113844-e6ba36b78e2924e3ca67310bdd1a4938:getPixels\" width=\"300\"/>"
            ],
            "text/plain": [
              "<IPython.core.display.Image object>"
            ]
          },
          "metadata": {},
          "execution_count": 36
        }
      ]
    },
    {
      "cell_type": "markdown",
      "source": [
        "*   Diferent bands have diferent optimal values of min and max.\n"
      ],
      "metadata": {
        "id": "s7cFxIbMhn0f"
      }
    },
    {
      "cell_type": "code",
      "source": [
        "ImageCollection = ee.ImageCollection('COPERNICUS/S2')\\\n",
        "                        .filterDate(ee.Date('2017-08-01'), ee.Date('2023-12-31'))\\\n",
        "                        .filterBounds(roi_geometry)\n",
        "\n",
        "First_Image = ee.Image(ImageCollection.first()).clip(roi_geometry)\n",
        "\n",
        "rgb = ['B8A']\n",
        "url = First_Image.getThumbURL({\"min\":0, \"max\":3000,\"bands\":rgb})\n",
        "\n",
        "disp.Image(url=url, width = 300)"
      ],
      "metadata": {
        "colab": {
          "base_uri": "https://localhost:8080/",
          "height": 303
        },
        "id": "KAq-pFK2hEgt",
        "outputId": "c70615c1-914c-40e7-8b99-7535f13cef0f"
      },
      "execution_count": null,
      "outputs": [
        {
          "output_type": "execute_result",
          "data": {
            "text/html": [
              "<img src=\"https://earthengine.googleapis.com/v1alpha/projects/earthengine-legacy/thumbnails/b34646ab273856f1c45fe99001164155-3861f4cae0890020417739584e86f66b:getPixels\" width=\"300\"/>"
            ],
            "text/plain": [
              "<IPython.core.display.Image object>"
            ]
          },
          "metadata": {},
          "execution_count": 46
        }
      ]
    }
  ]
}