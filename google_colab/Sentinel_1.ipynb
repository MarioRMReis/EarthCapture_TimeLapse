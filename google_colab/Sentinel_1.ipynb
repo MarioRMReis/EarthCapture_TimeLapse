{
  "nbformat": 4,
  "nbformat_minor": 0,
  "metadata": {
    "colab": {
      "provenance": [],
      "include_colab_link": true
    },
    "kernelspec": {
      "name": "python3",
      "display_name": "Python 3"
    }
  },
  "cells": [
    {
      "cell_type": "markdown",
      "metadata": {
        "id": "view-in-github",
        "colab_type": "text"
      },
      "source": [
        "<a href=\"https://colab.research.google.com/github/MarioRMReis/Sentinel_Images/blob/main/Sentinel_1.ipynb\" target=\"_parent\"><img src=\"https://colab.research.google.com/assets/colab-badge.svg\" alt=\"Open In Colab\"/></a>"
      ]
    },
    {
      "cell_type": "markdown",
      "metadata": {
        "id": "U7i55vr_aKCB"
      },
      "source": [
        "### Run me first\n",
        "Run this cell to install packages if missing.\n",
        "Run the next cell to initialize the API. The output will contain instructions on how to grant this notebook access to Earth Engine using your account."
      ]
    },
    {
      "cell_type": "markdown",
      "source": [
        "Run colab locally.\n",
        "\n",
        " - pip install jupyter_http_over_ws  \n",
        " - jupyter serverextension enable --py jupyter_http_over_ws\n",
        " - jupyter notebook --NotebookApp.allow_origin='https://colab.research.google.com' --port=8888 --NotebookApp.port_retries=0"
      ],
      "metadata": {
        "id": "RlJKoiEn05WS"
      }
    },
    {
      "cell_type": "code",
      "source": [
        "!pip install pykml\n",
        "!pip install fastkml\n",
        "!pip install geopandas\n",
        "!pip intall fiona\n",
        "!pip install ogr\n",
        "!pip install fastkml\n",
        "!pip install geemap"
      ],
      "metadata": {
        "id": "i1TzBVe7mzY2"
      },
      "execution_count": null,
      "outputs": []
    },
    {
      "cell_type": "code",
      "source": [
        "from google.colab import drive\n",
        "drive.mount('/content/drive')"
      ],
      "metadata": {
        "id": "WkycAeSX0HDC"
      },
      "execution_count": null,
      "outputs": []
    },
    {
      "cell_type": "code",
      "metadata": {
        "id": "XeFsiSp2aDL6",
        "outputId": "9ff33760-da39-4920-8734-5a7f889b532a",
        "colab": {
          "base_uri": "https://localhost:8080/",
          "height": 180
        }
      },
      "source": [
        "import ee\n",
        "# Trigger the authentication flow.\n",
        "ee.Authenticate()\n",
        " \n",
        "# Initialize the library.\n",
        "ee.Initialize()"
      ],
      "execution_count": 2,
      "outputs": [
        {
          "output_type": "display_data",
          "data": {
            "text/plain": [
              "<IPython.core.display.HTML object>"
            ],
            "text/html": [
              "<p>To authorize access needed by Earth Engine, open the following\n",
              "        URL in a web browser and follow the instructions:</p>\n",
              "        <p><a href=https://code.earthengine.google.com/client-auth?scopes=https%3A//www.googleapis.com/auth/earthengine%20https%3A//www.googleapis.com/auth/devstorage.full_control&request_id=hzKcfe8gR9NBOFIxZzAFDjLn1Ph-PW_p5ZTzYMmq_Yo&tc=w49fE-aRT2tSKA9cA--G0qpF22ekXLpoJOHbSqVj1LI&cc=Sv4kWAFpOvcec8EoaVfDJHB2AyCp887J1e7DiUocWeE>https://code.earthengine.google.com/client-auth?scopes=https%3A//www.googleapis.com/auth/earthengine%20https%3A//www.googleapis.com/auth/devstorage.full_control&request_id=hzKcfe8gR9NBOFIxZzAFDjLn1Ph-PW_p5ZTzYMmq_Yo&tc=w49fE-aRT2tSKA9cA--G0qpF22ekXLpoJOHbSqVj1LI&cc=Sv4kWAFpOvcec8EoaVfDJHB2AyCp887J1e7DiUocWeE</a></p>\n",
              "        <p>The authorization workflow will generate a code, which you should paste in the box below.</p>\n",
              "        "
            ]
          },
          "metadata": {}
        },
        {
          "output_type": "stream",
          "name": "stdout",
          "text": [
            "Enter verification code: 4/1AVHEtk7HrtMPzlrXtQzwi9X1YBjuYSIwUjGa7iZJrccLNhkG1PpyKyoOhd8\n",
            "\n",
            "Successfully saved authorization token.\n"
          ]
        }
      ]
    },
    {
      "cell_type": "markdown",
      "metadata": {
        "id": "VOf_UnIcZKBJ"
      },
      "source": [
        "### Datasets and Python modules\n",
        "\n",
        "- COPERNICUS/S1_GRD  \n",
        "    - Sentinel-1 ground range detected images converted to decibels\n",
        "\n",
        "- COPERNICUS/S2\n",
        "    - Sentinel-2\n",
        "\n",
        "The following cell imports some python modules which we will be using as we go along,  and also enables inline graphics."
      ]
    },
    {
      "cell_type": "code",
      "metadata": {
        "id": "JR0cxCpeIxoY"
      },
      "source": [
        "import matplotlib.pyplot as plt\n",
        "import numpy as np\n",
        "from scipy.stats import norm, gamma, f, chi2\n",
        "import IPython.display as disp\n",
        "import geemap\n",
        "import os\n",
        "import cv2\n",
        "import requests\n",
        "import math\n",
        "from pykml import parser\n",
        "%matplotlib inline"
      ],
      "execution_count": 32,
      "outputs": []
    },
    {
      "cell_type": "markdown",
      "source": [
        "# Parameters for the image request"
      ],
      "metadata": {
        "id": "J6K9YrBbA9dR"
      }
    },
    {
      "cell_type": "code",
      "source": [
        "C_drivePath = 'C:/Users/mario/Documents/Mario/'\n",
        "folder_dataset = C_drivePath + 'Sentinel/dataset'\n",
        "starting_date = '2017-01-01'\n",
        "ending_date = '2023-12-31'\n",
        "nimgs = 2190"
      ],
      "metadata": {
        "id": "WV1MP2kaLgCb"
      },
      "execution_count": 33,
      "outputs": []
    },
    {
      "cell_type": "markdown",
      "metadata": {
        "id": "r-GuxE6lJHHx"
      },
      "source": [
        "\n",
        "Let's start work by grabbing a spatial subset of a Sentinel-1 image from the archive. We'll define an region of interest (AOI) as the long-lat corners of a rectangle over the Frankfurt Airport. A convenient way to do this is with the [geojson.io](http://geojson.io/#map=2/20.0/0.0) website, from which we can cut and paste the corresponding GeoJSON object description."
      ]
    },
    {
      "cell_type": "markdown",
      "metadata": {
        "id": "VySnRWy3K0Jk"
      },
      "source": [
        "Open KML and convert into list of areas of interst"
      ]
    },
    {
      "cell_type": "code",
      "source": [
        "aoi = []\n",
        "aoi_names = []\n",
        "kml_files = os.listdir(C_drivePath + 'Sentinel/roi/')\n",
        "\n",
        "for kml in kml_files:\n",
        "  with open(C_drivePath + 'Sentinel/roi/' + kml, 'r') as f:\n",
        "    root = parser.parse(f).getroot()\n",
        "  namespace = {\"kml\": 'http://www.opengis.net/kml/2.2'}\n",
        "  pms = root.xpath(\".//kml:Placemark[.//kml:Polygon]\", namespaces=namespace)\n",
        "  roi_string = []\n",
        "  for p in pms:\n",
        "    if hasattr(p, 'MultiGeometry'):\n",
        "      for poly in p.MultiGeometry.Polygon:\n",
        "        roi_string.append(poly.outerBoundaryIs.LinearRing.coordinates)\n",
        "    else:\n",
        "      roi_string.append(p.Polygon.outerBoundaryIs.LinearRing.coordinates)\n",
        "\n",
        "  dot = kml_files[0].find('.')\n",
        "  name_kml = kml_files[0][:dot] + '-'\n",
        "  for jdx, r in enumerate(roi_string):\n",
        "    aoi_names.append(name_kml + str(jdx))\n",
        "    roi_str = str(r).split(' ')\n",
        "    aux = []\n",
        "    for idx, rs in enumerate(roi_str):\n",
        "      if idx == 0:\n",
        "        n = rs[7::].split(',')\n",
        "        aux.append([float(n[i]) for i in range(len(n)-1)])\n",
        "      elif idx == (len(roi_str)-1): \n",
        "        print(rs)\n",
        "      else:\n",
        "        n = rs.split(',')\n",
        "        aux.append([float(n[i]) for i in range(len(n)-1)])\n",
        "    aoi.append([aux])\n"
      ],
      "metadata": {
        "id": "dUk3VGJGVkiP",
        "outputId": "0fe25c42-9c83-4d46-fd2e-3525b995c684",
        "colab": {
          "base_uri": "https://localhost:8080/"
        }
      },
      "execution_count": 7,
      "outputs": [
        {
          "output_type": "stream",
          "name": "stdout",
          "text": [
            "\n",
            "\t\t\t\t\t\n",
            "\n",
            "\t\t\t\t\t\n"
          ]
        }
      ]
    },
    {
      "cell_type": "markdown",
      "source": [
        "# Figuring out the function to create a square with the plot land in the center"
      ],
      "metadata": {
        "id": "-5mlSB2GctLP"
      }
    },
    {
      "cell_type": "markdown",
      "source": [
        " Square to figure out the pixel coord ratio, Download img and load to check the finnal hight and width."
      ],
      "metadata": {
        "id": "C13D3PFozsqb"
      }
    },
    {
      "cell_type": "code",
      "source": [
        "poly = [[[-8.481757943461618, 40.221058298898306],\n",
        "           [-8.482487504313669, 40.217650300991174],\n",
        "           [-8.474054639170847, 40.21909216718002],\n",
        "           [-8.472788636515817, 40.220484849707624],\n",
        "           [-8.472938840220651, 40.22176281554504]]]\n",
        "\n",
        "siz = len(poly[0])\n",
        "list_x = []\n",
        "list_y = []\n",
        "for i in range(siz): \n",
        "  list_x.append(poly[0][i][0])\n",
        "  list_y.append(poly[0][i][1])\n",
        "\n",
        "centroid_x = sum(list_x)/siz\n",
        "centroid_y = sum(list_y)/siz\n",
        "\n",
        "print(centroid_x, centroid_y)\n"
      ],
      "metadata": {
        "colab": {
          "base_uri": "https://localhost:8080/"
        },
        "id": "JyHQhpZHacy5",
        "outputId": "3b30b8d2-7808-419c-bbee-c7de091c6a7f"
      },
      "execution_count": null,
      "outputs": [
        {
          "output_type": "stream",
          "name": "stdout",
          "text": [
            "-8.47680551273652 40.22000968646444\n"
          ]
        }
      ]
    },
    {
      "cell_type": "code",
      "source": [
        "\n",
        "square = ee.Geometry.Polygon(\n",
        "    [[[-8.474415606544039, 40.23368990967016],\n",
        "          [-8.474415606544039, 40.22471245101487],\n",
        "          [-8.462313479468843, 40.22471245101487],\n",
        "          [-8.462313479468843, 40.23368990967016]]],None,False)\n",
        "\n",
        "ffa_s2_test = ee.ImageCollection('COPERNICUS/S2') \\\n",
        "                       .filterBounds(square) \\\n",
        "                       .filterDate(ee.Date('2019-01-01'), ee.Date('2019-12-31'))\n",
        "colList = ffa_s2_test.toList(10)\n",
        "\n",
        "img = ee.Image(colList.get(3)).double().clip(square)\n",
        "\n",
        "rgb = ['B4','B3','B2']\n",
        "\n",
        "url = img.select(rgb).getThumbURL({'min': 0, 'max': 3000})\n",
        "\n",
        "img_data = requests.get(url).content\n",
        "\n",
        "path = C_drivePath + 'Sentinel/Z-Aux'\n",
        "id = img.id().getInfo()\n",
        "with open(path + '/' + id +'.jpg', 'wb') as handler:\n",
        "  handler.write(img_data)\n"
      ],
      "metadata": {
        "id": "NvguY3tkzsGP"
      },
      "execution_count": null,
      "outputs": []
    },
    {
      "cell_type": "code",
      "source": [
        "img_path = C_drivePath + 'Sentinel/Z-Aux/20190110T112439_20190110T112653_T29TNE.jpg'\n",
        "\n",
        "img = cv2.imread(img_path)\n",
        "\n",
        "print(img.shape) # height. width, channels -> 101, 104, 3"
      ],
      "metadata": {
        "id": "tkqbYqnSMCfA"
      },
      "execution_count": null,
      "outputs": []
    },
    {
      "cell_type": "code",
      "source": [
        "square_coords = [[[-8.474415606544039, 40.23368990967016],\n",
        "          [-8.474415606544039, 40.22471245101487],\n",
        "          [-8.462313479468843, 40.22471245101487],\n",
        "          [-8.462313479468843, 40.23368990967016]]]\n",
        "height = 101\n",
        "width = 104\n",
        "\n",
        "height_coords = abs(square_coords[0][0][1] - square_coords[0][1][1])\n",
        "width_coords = abs(square_coords[0][1][0] - square_coords[0][2][0])\n",
        "\n",
        "resize_width = width_coords*128/width\n",
        "resize_height = height_coords*128/height\n",
        "\n",
        "print(resize_height,resize_width)"
      ],
      "metadata": {
        "id": "Cly_dsVRSWs_"
      },
      "execution_count": null,
      "outputs": []
    },
    {
      "cell_type": "markdown",
      "source": [
        "# Functions 128x128 and Check if inside"
      ],
      "metadata": {
        "id": "mjJQw6KS8z-O"
      }
    },
    {
      "cell_type": "code",
      "source": [
        "# Create a mask-----\n",
        "# Check if all the reagion of interest is in the image\n",
        "\n",
        "def get_squares(aois):\n",
        "    # 0.011377373345324189 0.014894925631009616 -> Height, Width\n",
        "    S128 = [0.014854925631009616, 0.011377373345324189]\n",
        "    new_aois = []\n",
        "    h_aux = S128[1]/2\n",
        "    w_aux = S128[0]/2\n",
        "\n",
        "    for aoi in aois:\n",
        "      # Find centeroid ----------------------------\n",
        "      siz = len(aoi[0])\n",
        "      list_width = []\n",
        "      list_height = []\n",
        "      for i in range(siz): \n",
        "        list_width.append(aoi[0][i][0])\n",
        "        list_height.append(aoi[0][i][1])\n",
        "\n",
        "      max_width = max(list_width)\n",
        "      min_width = min(list_width)\n",
        "      max_height = max(list_height)\n",
        "      min_height = min(list_height)\n",
        "      \n",
        "      centroid_width = (max_width+min_width)/2\n",
        "      centroid_height = (max_height+min_height)/2\n",
        "\n",
        "      aoi_new = [[[(centroid_width-w_aux), (centroid_height+h_aux)], [(centroid_width-w_aux), (centroid_height-h_aux)], [(centroid_width+w_aux), (centroid_height-h_aux)], [(centroid_width+w_aux), (centroid_height+h_aux)]]]\n",
        "      #inside, split_aois = check_if_inside(aoi_new, aoi)\n",
        "      #if inside:\n",
        "      new_aois.append(aoi_new)\n",
        "      #else:\n",
        "        #for saois in split_aois:\n",
        "          #new_aois.append(saois)\n",
        "\n",
        "      \n",
        "      #ans = image_ratio(S128, [list_width, list_height])\n",
        "    return new_aois\n"
      ],
      "metadata": {
        "id": "-DInDppgdWx0"
      },
      "execution_count": 5,
      "outputs": []
    },
    {
      "cell_type": "markdown",
      "source": [
        "# Not Needed for now"
      ],
      "metadata": {
        "id": "WXOvD-QalVW9"
      }
    },
    {
      "cell_type": "markdown",
      "source": [
        "Change to multiples of 128x128 and separate the image after, do the same for the mask\n",
        "At the momement we are creating a images around the center of the filed, that image is created to have 128x128 size that can cause the field to be out of the\n",
        "   image.\n",
        "> Fix: create a multiple of 128x128 that includes the rest of the field\n",
        "\n",
        "\n"
      ],
      "metadata": {
        "id": "Z1qHoPLGfsNM"
      }
    },
    {
      "cell_type": "code",
      "source": [
        "def image_ratio(S128, list_aoi):\n",
        "  # list_aoi - [[1,2,3,4]>Width, [5,6,7,8]->height]\n",
        "  # S128 = [wLength, hLength]\n",
        "  wCentroid = (max(list_aoi[0]) + min(list_aoi[0]))/2\n",
        "  hCentroid = (max(list_aoi[1]) + min(list_aoi[1]))/2\n",
        "\n",
        "  wMax = max(list_aoi[0]) \n",
        "  wMin = min(list_aoi[0])\n",
        "  hMax = max(list_aoi[1]) \n",
        "  hMin = min(list_aoi[1])\n",
        "  # -----------------------------------\n",
        "  wDiff = abs(wMax - wMin)\n",
        "  hDiff = abs(hMax - hMin)\n",
        "\n",
        "  wAmount = math.ceil(wDiff/S128[0])\n",
        "  hAmount = math.ceil(hDiff/S128[1])\n",
        "  \n",
        "  size = [wAmount, hAmount]\n",
        "  return size"
      ],
      "metadata": {
        "id": "fx6no74GjWvo"
      },
      "execution_count": null,
      "outputs": []
    },
    {
      "cell_type": "code",
      "source": [
        "# code needs changing, output if inside or not and if not where in a grid it is,\n",
        "#         __________________________\n",
        "#        |        |        |        |\n",
        "#        |    1   |    2   |    3   |\n",
        "#        |________|________|________|\n",
        "#        |      **|********|        |\n",
        "#        |    4 **|*** 5 **|    6   |\n",
        "#        |________|________|________|\n",
        "#        |        |        |        |\n",
        "#        |    7   |    8   |    9   |\n",
        "#        |________|________|________|\n",
        "# in this example we say that we need an image with a width of 256 and a height of 128 and after that we split them 3 and 4 beeing the new images\n",
        "# size = [wAmount, hAmount]\n",
        "def check_if_inside(aoiSquare, aoiIrre, S128, Amount):\n",
        "  inside = True\n",
        "  Img_shape = \n",
        "  Active_Squares = [5]\n",
        "  # ---- Empty Lists for the x and y coords --\n",
        "  ListIrre = np.zeros([2,len(aoiIrre[0])])            # ListIrre = [[x1 x2 x3 x4 x5 x6 x7 x8 x9 x10]\n",
        "  ListSquare = np.zeros([2,len(aoiSquare[0])])        #             [y1 y2 y3 y4 y5 y6 y7 y8 y9 y10]]\n",
        "  # ---- Fill the lists with the coords ------\n",
        "  for i in range(len(aoiIrre[0])): \n",
        "    ListIrre[0][i] = aoiIrre[0][i][0]\n",
        "    ListIrre[1][i] = aoiIrre[0][i][1]\n",
        "    if i < 4:\n",
        "      ListSquare[0][i] = aoiSquare[0][i][0]\n",
        "      ListSquare[1][i] = aoiSquare[0][i][1]\n",
        "  # ---- Non-Square Coordinates -------------\n",
        "  # Irregular shape = [xMin, xMax, yMin, yMax]\n",
        "  Irr_Limits = [min(ListIrre[0]), max(ListIrre[0]), min(ListIrre[1]), max(ListIrre[1])] \n",
        "  # ---- Square Coordinates -----------------\n",
        "  Square_Limits = [min(ListSquare[0]), max(ListSquare[0]), min(ListSquare[1]), max(ListSquare[1])] \n",
        "  \n",
        "  aoiNew = aoiSquare\n",
        "  # ------\n",
        "  # Amount[0] -> Width [X], Amount[1] -> height [Y]\n",
        "  if Amount[0] > 1 && Amount[1] > 1:\n",
        "  \n",
        "  elif Amount[0] > 1 && Amount[1] == 1:\n",
        "    if Irr_Limits[0] < Square_Limits[0]:\n",
        "\n",
        "    if Irr_Limits[1] > Square_Limits[1]:\n",
        "\n",
        "  elif Amount[0] == 1 && Amount[1] > 1:\n",
        "    if Irr_Limits[2] < Square_Limits[2]:\n",
        "\n",
        "    if Irr_Limits[3] > Square_Limits[3]:\n",
        "\n",
        "  #elif Amount[0] == 1 && Amount[1] == 1:\n",
        "  #  aoiNew = aoiSquare\n",
        "  #else:\n",
        "\n",
        "\n",
        "  # (...) 4 more edge cases, diagonal fit\n",
        "\n",
        "  # inside - returns if the filed fits in the current region created from get_squares()\n",
        "  # new_aois - list of new regions created when the field doens't fit in the current region \n",
        "  # new_polys - returns the field associated with the new region \n",
        "  return inside, new_aois, new_polys"
      ],
      "metadata": {
        "id": "JF6k8gejN7e3"
      },
      "execution_count": null,
      "outputs": []
    },
    {
      "cell_type": "markdown",
      "source": [
        "# Mask"
      ],
      "metadata": {
        "id": "K-98Pfyk5tLr"
      }
    },
    {
      "cell_type": "code",
      "source": [
        "#def create_mask(aoi_land, aoi_square):\n",
        "square_roi = get_squares(aoi)\n",
        "aoi_test = ee.Geometry.Polygon(square_roi[0],None,False)\n",
        "\n",
        "aoi_test_land = ee.Geometry.Polygon(aoi[1],None,False)\n",
        "\n",
        "ffa_s2 = ee.ImageCollection('COPERNICUS/S2') \\\n",
        "                        .filterBounds(aoi_test) \\\n",
        "                        .filterDate(ee.Date('2017-01-01'), ee.Date('2023-12-31'))\n",
        "colList = ffa_s2.toList(30)\n",
        "\n",
        "ffa_s2_land = ee.ImageCollection('COPERNICUS/S2') \\\n",
        "                        .filterBounds(aoi_test_land) \\\n",
        "                        .filterDate(ee.Date('2017-01-01'), ee.Date('2023-12-31'))\n",
        "colList_land = ffa_s2_land.toList(30)\n",
        "\n",
        "\n",
        "#var test_image = ee.Image(\"COPERNICUS/S2_SR/20200102T111349_20200102T111435_T30UXB\")\n",
        "#var masked = test_image.mask(test_image.select(\"SCL\").eq(9))\n",
        "\n",
        "\n",
        "rgb = ['B4','B3','B2']\n",
        "colection_merge = ffa_s2.merge(ffa_s2_land)\n",
        "colLi_stmerge = ffa_s2_land.toList(30)\n",
        "\n",
        "img = ee.Image(colList.get(17)).double().clip(aoi_test)\n",
        "img2 = ee.Image(colList_land.get(17)).double().clip(aoi_test_land)\n",
        "\n",
        "\n",
        "url = img.getThumbURL({\"min\":20000, \"max\":20000,\"bands\":rgb})\n",
        "\n",
        "img_data = requests.get(url).content\n",
        "\n",
        "disp.Image(url=url, width = 300)"
      ],
      "metadata": {
        "colab": {
          "base_uri": "https://localhost:8080/",
          "height": 321
        },
        "id": "aIFsT5yAZ8s-",
        "outputId": "f81d0501-0d0e-4e5c-8632-e87cc4b5078d"
      },
      "execution_count": 6,
      "outputs": [
        {
          "output_type": "execute_result",
          "data": {
            "text/html": [
              "<img src=\"https://earthengine.googleapis.com/v1alpha/projects/earthengine-legacy/thumbnails/ad2f3b47999b056f826860c5e2cae23e-dffa40c498fd2d41b4a3f3c16e10b341:getPixels\" width=\"300\"/>"
            ],
            "text/plain": [
              "<IPython.core.display.Image object>"
            ]
          },
          "metadata": {},
          "execution_count": 6
        }
      ]
    },
    {
      "cell_type": "code",
      "source": [
        "square_roi = get_squares(aoi)\n",
        "print(square_roi[0])"
      ],
      "metadata": {
        "id": "AP_JjID_bOlY",
        "outputId": "4e4ba4a7-586b-4240-96c0-a01b4c41c2e0",
        "colab": {
          "base_uri": "https://localhost:8080/"
        }
      },
      "execution_count": null,
      "outputs": [
        {
          "output_type": "stream",
          "name": "stdout",
          "text": [
            "[[[-8.486264504248512, 40.225319107037976], [-8.486264504248512, 40.21394173369265], [-8.471409578617502, 40.21394173369265], [-8.471409578617502, 40.225319107037976]]]\n"
          ]
        }
      ]
    },
    {
      "cell_type": "code",
      "source": [
        "aoi_square_list =  get_squares(aoi)\n",
        "\n",
        "aoi_land = ee.Geometry.Polygon(aoi[0],None,False)\n",
        "aoi_square = ee.Geometry.Polygon(aoi_square_list[0],None,False)\n",
        "\n",
        "ffa_s2_land = ee.ImageCollection('COPERNICUS/S2') \\\n",
        "                        .filterBounds(aoi_land) \\\n",
        "                        .filterDate(ee.Date('2017-01-01'), ee.Date('2023-12-31'))\n",
        "                        \n",
        "ffa_s2_square = ee.ImageCollection('COPERNICUS/S2') \\\n",
        "                        .filterBounds(aoi_square) \\\n",
        "                        .filterDate(ee.Date('2017-01-01'), ee.Date('2023-12-31'))\n",
        "\n",
        "colList_land = ffa_s2_land.toList(30)\n",
        "colList_square = ffa_s2_land.toList(30)\n",
        "\n",
        "# LAND -------------------------------------------------------------------------\n",
        "img_land = ee.Image(colList_land.get(17)).double().clip(aoi_land)\n",
        "rgb = ['B4','B3','B2']\n",
        "url_land = img_land.getThumbURL({\"min\":0, \"max\":3000,\"bands\":rgb})\n",
        "\n",
        "img_data_land = requests.get(url_land).content\n",
        "\n",
        "path = C_drivePath + 'Sentinel/Z-Aux'\n",
        "id = img_land.id().getInfo()\n",
        "with open(path + '/' + id +'.jpg', 'wb') as handler:\n",
        "  handler.write(img_data_land)\n",
        "\n",
        "# SQUARE -----------------------------------------------------------------------\n",
        "img_square = ee.Image(colList_square.get(17)).double().clip(aoi_square)\n",
        "rgb = ['B4','B3','B2']\n",
        "url_square = img_square.getThumbURL({\"min\":0, \"max\":3000,\"bands\":rgb})\n",
        "\n",
        "img_data_square = requests.get(url_square).content\n",
        "\n",
        "path = C_drivePath + 'Sentinel/Z-Aux'\n",
        "id = img_square.id().getInfo()\n",
        "with open(path + '/' + id + '_2' +'.jpg', 'wb') as handler:\n",
        " image = handler.write(img_data_square)\n",
        "\n",
        "disp.Image(url=url_square)\n",
        "\n",
        "# LOAD IMAGES ------------------------------------------------------------------\n",
        "\n",
        "name1 = '20170405T112111_20170405T112111_T29TNE.jpg'\n",
        "img1 = cv2.imread(C_drivePath + 'Sentinel/Z-Aux/' + name1)\n",
        "\n",
        "img_shape = img1.shape\n",
        "img_zeros = np.zeros([128, 128, 3])\n",
        "\n",
        "# from x -> (x+image) = image\n",
        "\n",
        "img_zeros[39:(39+49), 13:(13+102), :] = img1\n",
        "\n",
        "cv2.imwrite(C_drivePath + 'Sentinel/Z-Aux/mask.png', img_zeros)\n",
        "\n",
        "plt.imshow(img_zeros)\n",
        "plt.axis(\"off\")\n",
        "plt.show()\n",
        "\n",
        "#cv2_imshow(img1)"
      ],
      "metadata": {
        "id": "IKBJpnBv6Kg6",
        "outputId": "f1311f3c-31c2-4607-ad0b-8b1f1e796bec",
        "colab": {
          "base_uri": "https://localhost:8080/",
          "height": 423
        }
      },
      "execution_count": 7,
      "outputs": [
        {
          "output_type": "stream",
          "name": "stderr",
          "text": [
            "Clipping input data to the valid range for imshow with RGB data ([0..1] for floats or [0..255] for integers).\n"
          ]
        },
        {
          "output_type": "display_data",
          "data": {
            "text/plain": [
              "<Figure size 640x480 with 1 Axes>"
            ],
            "image/png": "[encoded data removed]"
          },
          "metadata": {}
        }
      ]
    },
    {
      "cell_type": "code",
      "source": [
        "def get_mask(path, aoi, size):\n",
        "  # Inputs:\n",
        "  #     - path -> path to the aoi saved images\n",
        "  #     - aoi -> Area of interest of the landfield\n",
        "  #     - size = [sizeX, sizeY] -> size of the mask, (ie: 128x128, 256x256, 354x128...)\n",
        "  ffa_s2 = ee.ImageCollection('COPERNICUS/S2') \\\n",
        "                        .filterBounds(aoi) \\\n",
        "                        .filterDate(ee.Date('2017-01-01'), ee.Date('2023-12-31'))\n",
        "  colList = ffa_s2.toList(30)\n",
        "  # This part get's the land area image needed to create the mask --------------\n",
        "  img = ee.Image(colList.get(17)).double().clip(aoi)\n",
        "  rgb = ['B4','B3','B2']\n",
        "  url = img.getThumbURL({\"min\":-200000, \"max\":-200000,\"bands\":rgb})\n",
        "\n",
        "  img_data = requests.get(url).content\n",
        "\n",
        "  path_c = C_drivePath + path\n",
        "  id = img.id().getInfo()\n",
        "  with open(path_c + '/mask_aux.jpg', 'wb') as handler:\n",
        "    handler.write(img_data)\n",
        "\n",
        "  # load the saved image -------------------------------------------------------\n",
        "  img_aux = cv2.imread(path_c + '/mask_aux.jpg')\n",
        "  img_zeros = np.zeros([128, 128, 3])\n",
        "\n",
        "  # Create mask ----------------------------------------------------------------\n",
        "  # img_aux.shape -> [x,y,z]\n",
        "  x = img_aux.shape[0]\n",
        "  y = img_aux.shape[1]\n",
        "  x_sum = math.ceil((size[0]-x)/2)\n",
        "  y_sum = math.ceil((size[1]-y)/2)\n",
        "\n",
        "  img_zeros = np.zeros([size[0], size[1], 3])\n",
        "  img_zeros[x_sum:(x_sum+x), y_sum:(y_sum+y), :] = img_aux\n",
        "\n",
        "  cv2.imwrite(path_c +'/mask.jpg', img_zeros)\n",
        "  return img_zeros\n",
        "\n",
        "# TEST ----------------------- (delete) -----------------\n",
        "name1 = '20170405T112111_20170405T112111_T29TNE.jpg'\n",
        "img1 = cv2.imread(C_drivePath + 'Sentinel/Z-Aux/' + name1)\n",
        "aoi_land = ee.Geometry.Polygon(aoi[0],None,False)\n",
        "path = 'Sentinel/Z-Aux/'\n",
        "img = get_mask(path, aoi_land, [128, 128])\n",
        "\n",
        "plt.imshow(img)\n",
        "plt.axis(\"off\")\n",
        "plt.show()"
      ],
      "metadata": {
        "id": "Ms1zD3lwUnsl",
        "outputId": "0fb8ede3-d8a7-4ce0-ee71-2a8120227fda",
        "colab": {
          "base_uri": "https://localhost:8080/",
          "height": 423
        }
      },
      "execution_count": 17,
      "outputs": [
        {
          "output_type": "stream",
          "name": "stderr",
          "text": [
            "Clipping input data to the valid range for imshow with RGB data ([0..1] for floats or [0..255] for integers).\n"
          ]
        },
        {
          "output_type": "display_data",
          "data": {
            "text/plain": [
              "<Figure size 640x480 with 1 Axes>"
            ],
            "image/png": "[encoded data removed]"
          },
          "metadata": {}
        }
      ]
    },
    {
      "cell_type": "code",
      "source": [
        "disp.Image(img1)"
      ],
      "metadata": {
        "id": "QJM63fiKD_XX",
        "outputId": "a83686e1-0e73-4750-b5e7-debf0fb3609e",
        "colab": {
          "base_uri": "https://localhost:8080/",
          "height": 34
        }
      },
      "execution_count": null,
      "outputs": [
        {
          "output_type": "execute_result",
          "data": {
            "image/png": "[encoded data removed]",
            "text/plain": [
              "<IPython.core.display.Image object>"
            ]
          },
          "metadata": {},
          "execution_count": 14
        }
      ]
    },
    {
      "cell_type": "markdown",
      "source": [
        "# Test"
      ],
      "metadata": {
        "id": "THCtknu0MW60"
      }
    },
    {
      "cell_type": "code",
      "source": [
        "square_coords = [[[-8.474415606544039, 40.23368990967016],\n",
        "          [-8.474415606544039, 40.22471245101487],\n",
        "          [-8.462313479468843, 40.22471245101487],\n",
        "          [-8.462313479468843, 40.23368990967016]]]\n",
        "\n",
        "poly = [[[-8.481757943461618, 40.221058298898306],\n",
        "           [-8.482487504313669, 40.217650300991174],\n",
        "           [-8.474054639170847, 40.21909216718002],\n",
        "           [-8.472788636515817, 40.220484849707624],\n",
        "           [-8.472938840220651, 40.22176281554504]]]\n",
        "\n",
        "testing_edge = [[[-8.486570903134364, 40.22201669717746],\n",
        "          [-8.486570903134364, 40.21728156684586],\n",
        "          [-8.471378871274013, 40.21728156684586],\n",
        "          [-8.471378871274013, 40.22201669717746]]]\n",
        "list_testing = []\n",
        "list_testing.append(testing_edge)\n",
        "aois_testing = get_squares(list_testing)\n",
        "test_inside ,new_testingAois = check_if_inside(testing_edge,aois_testing[0])\n",
        "\n",
        "new_testingGeometry = []\n",
        "for aoi_test in new_testingAois:\n",
        "  new_testingGeometry.append(ee.Geometry.Polygon(aoi,None,False))\n",
        "\n",
        "for idx, aoi_test in enumerate(new_testingGeometry):\n",
        "  ffa_s2 = ee.ImageCollection('COPERNICUS/S2') \\\n",
        "                        .filterBounds(aoi_test) \\\n",
        "                        .filterDate(ee.Date('2017-01-01'), ee.Date('2023-12-31'))\n",
        "  colList = ffa_s2.toList(30)\n",
        "\n",
        "\n",
        "  img = ee.Image(colList.get(17)).double().clip(aoi_test)\n",
        "\n",
        "\n",
        "  rgb = ['B4','B3','B2']\n",
        "  url = img.getThumbURL({\"min\":0, \"max\":2500,\"bands\":rgb})\n",
        "\n",
        "  img_data = requests.get(url).content\n",
        "\n",
        "  path = C_drivePath + 'Sentinel/Z-Aux/' + str(idx)\n",
        "  id = img.id().getInfo()\n",
        "  with open(path + '/' + id +'.jpg', 'wb') as handler:\n",
        "    handler.write(img_data)"
      ],
      "metadata": {
        "id": "YgAXFcBvSyOE"
      },
      "execution_count": null,
      "outputs": []
    },
    {
      "cell_type": "code",
      "source": [
        "poly = [[[-8.481757943461618, 40.221058298898306],\n",
        "           [-8.482487504313669, 40.217650300991174],\n",
        "           [-8.474054639170847, 40.21909216718002],\n",
        "           [-8.472788636515817, 40.220484849707624],\n",
        "           [-8.472938840220651, 40.22176281554504]]]\n",
        "\n",
        "aois = [poly] \n",
        "naois = get_squares(aois)\n",
        "\n",
        "aoi_test = ee.Geometry.Polygon(aois[0],None,False)\n",
        "\n",
        "\n",
        "ffa_s2 = ee.ImageCollection('COPERNICUS/S2') \\\n",
        "                       .filterBounds(aoi_test) \\\n",
        "                       .filterDate(ee.Date('2017-01-01'), ee.Date('2023-12-31'))\n",
        "colList = ffa_s2.toList(30)\n",
        "\n",
        "\n",
        "img = ee.Image(colList.get(17)).double().clip(aoi_test)\n",
        "\n",
        "\n",
        "rgb = ['B4','B3','B2']\n",
        "url = img.getThumbURL({\"min\":0, \"max\":2500,\"bands\":rgb})\n",
        "\n",
        "img_data = requests.get(url).content\n",
        "\n",
        "path = C_drivePath + 'Sentinel/Z-Aux'\n",
        "id = img.id().getInfo()\n",
        "with open(path + '/' + id +'.jpg', 'wb') as handler:\n",
        "  handler.write(img_data)\n",
        "\n",
        "\n",
        "disp.Image(url=url, width = 300)"
      ],
      "metadata": {
        "colab": {
          "base_uri": "https://localhost:8080/",
          "height": 209
        },
        "id": "LYM7WwmIMWF_",
        "outputId": "36756c9e-4c60-4260-d188-223bc1c91de5"
      },
      "execution_count": null,
      "outputs": [
        {
          "output_type": "stream",
          "name": "stdout",
          "text": [
            "[1, 1]\n"
          ]
        },
        {
          "output_type": "execute_result",
          "data": {
            "text/html": [
              "<img src=\"https://earthengine.googleapis.com/v1alpha/projects/earthengine-legacy/thumbnails/079a9f03507cd4c5719076058fa0ab34-5b8cbaeaf53efff29638beb761ec5e1c:getPixels\" width=\"300\"/>"
            ],
            "text/plain": [
              "<IPython.core.display.Image object>"
            ]
          },
          "metadata": {},
          "execution_count": 15
        }
      ]
    },
    {
      "cell_type": "markdown",
      "metadata": {
        "id": "C6rM63_lTqJ9"
      },
      "source": [
        "Next, we filter the S1 archive to get an image over the _aoi_ acquired sometime in August, 2020. Any old image will do fine, so we won't bother to specify the orbit number or whether we want the ASCENDING or DESCENDING node. If we don't specify the instrument mode or resolution, we get _IW_ (interferometric wide swath) mode and $10\\times 10\\ m^2$ pixels by default. For convenience we grab both decibel and float versions:"
      ]
    },
    {
      "cell_type": "markdown",
      "source": [
        "# 128x128 aois"
      ],
      "metadata": {
        "id": "mFue7DOPPrYj"
      }
    },
    {
      "cell_type": "code",
      "source": [
        "# for each aoi, get the square and create the new list ee.Geometry.Polygon\n",
        "aois = get_squares(aoi_list)\n",
        "aois_geometry = []\n",
        "for aoi in aois:\n",
        "  aois_geometry.append(ee.Geometry.Polygon(aoi,None,False))"
      ],
      "metadata": {
        "id": "3PRuxeq8O1YX"
      },
      "execution_count": null,
      "outputs": []
    },
    {
      "cell_type": "markdown",
      "source": [
        "## SENTINEL-1"
      ],
      "metadata": {
        "id": "rSd4hNDynjlE"
      }
    },
    {
      "cell_type": "code",
      "metadata": {
        "id": "ALF5YkahTvRl"
      },
      "source": [
        "ffa_db = ee.Image(ee.ImageCollection('COPERNICUS/S1_GRD') \n",
        "                       .filterBounds(aois_geometry[0]) \n",
        "                       .filterDate(ee.Date('2019-01-01'), ee.Date('2019-12-31')) \n",
        "                       .first() \n",
        "                       .clip(aois_geometry[0]))"
      ],
      "execution_count": null,
      "outputs": []
    },
    {
      "cell_type": "markdown",
      "metadata": {
        "id": "Tcj_XBgDT032"
      },
      "source": [
        "# Testing the best range for the bands, min and max"
      ]
    },
    {
      "cell_type": "code",
      "metadata": {
        "id": "-h-0Jz68T5Tn",
        "outputId": "7c70962f-677c-4476-fe4a-ca5d6bc867aa",
        "colab": {
          "base_uri": "https://localhost:8080/"
        }
      },
      "source": [
        "ffa_db.bandNames().getInfo()"
      ],
      "execution_count": null,
      "outputs": [
        {
          "output_type": "execute_result",
          "data": {
            "text/plain": [
              "['VV', 'VH', 'angle']"
            ]
          },
          "metadata": {},
          "execution_count": 21
        }
      ]
    },
    {
      "cell_type": "code",
      "source": [
        "ffa_s1 = ee.ImageCollection('COPERNICUS/S1_GRD') \\\n",
        "                       .filterBounds(aois_geometry[0]) \\\n",
        "                       .filterDate(ee.Date('2019-01-01'), ee.Date('2019-12-31'))\n",
        "colList = ffa_s1.toList(30)\n",
        "\n",
        "img = ee.Image(colList.get(19)).double().clip(aois_geometry[0])\n",
        "url = img.select('VH').getThumbURL({'min': -25, 'max': -7})\n",
        "disp.Image(url=url, width = 300)"
      ],
      "metadata": {
        "id": "1A8_UcvYcRqX",
        "colab": {
          "base_uri": "https://localhost:8080/",
          "height": 319
        },
        "outputId": "ef0c885f-176a-4e6c-e3ef-a982242f9e2e"
      },
      "execution_count": null,
      "outputs": [
        {
          "output_type": "execute_result",
          "data": {
            "text/html": [
              "<img src=\"https://earthengine.googleapis.com/v1alpha/projects/earthengine-legacy/thumbnails/23e6597c1293304ea202c1a023fd1137-c7ff8aa9ac59d32fc01976d488762292:getPixels\" width=\"300\"/>"
            ],
            "text/plain": [
              "<IPython.core.display.Image object>"
            ]
          },
          "metadata": {},
          "execution_count": 23
        }
      ]
    },
    {
      "cell_type": "markdown",
      "source": [
        "# Function to request the images Sentinel-1 ---------------------------------------------------------------------"
      ],
      "metadata": {
        "id": "DT5PUABiCAT1"
      }
    },
    {
      "cell_type": "code",
      "source": [
        "def ExportCol_Sentinel1(path, roi, channel, min, max, n):\n",
        "  try:\n",
        "    for i in range(0,nimgs,1):\n",
        "      ffa_s = ee.ImageCollection('COPERNICUS/S1_GRD') \\\n",
        "                        .filterBounds(roi) \\\n",
        "                        .filterDate(ee.Date(starting_date), ee.Date(ending_date))\n",
        "\n",
        "      colList = ffa_s.toList(nimgs); \n",
        "\n",
        "      img = ee.Image(colList.get(i)).double().clip(roi)\n",
        "      # Exeption beacause to get a RGB channel with the Sentinel-1 we need to correspond each channel and compute the last\n",
        "      if channel == 'RGB':\n",
        "        imgR = img.select('VV')\n",
        "        imgG = img.select('VH')\n",
        "        imgB = img.select('VV').divide(img.select('VH'))\n",
        "        url = ee.Image.rgb(imgR,imgG,imgB).getThumbURL({'min': [min[0], min[1], 0], 'max': [0, 0, 2]})\n",
        "      else:\n",
        "        url = img.select(channel).getThumbURL({'min': min[n], 'max': max[n]})\n",
        "\n",
        "      id = img.id().getInfo()\n",
        "      img_data = requests.get(url).content\n",
        "\n",
        "      # Creates the folder but the flag need to be turned off beacause it will try to makedir after the creation\n",
        "      try:\n",
        "        os.makedirs(path)\n",
        "        with open(path + '/' + id +'.jpg', 'wb') as handler:\n",
        "          handler.write(img_data)\n",
        "          #create_folders = False\n",
        "      except:\n",
        "        # This just saves the image in the correct folder with the name 'id' (var->'id')\n",
        "        with open(path + '/' + id +'.jpg', 'wb') as handler:\n",
        "          handler.write(img_data)\n",
        "  except:\n",
        "    return"
      ],
      "metadata": {
        "id": "5w0ahSCEbKV8"
      },
      "execution_count": null,
      "outputs": []
    },
    {
      "cell_type": "markdown",
      "source": [
        "The request"
      ],
      "metadata": {
        "id": "dArUiDs1CPIw"
      }
    },
    {
      "cell_type": "code",
      "source": [
        "# Variables needed to save images\n",
        "bands_s1 = ffa_db.bandNames().getInfo()\n",
        "bands_s1.remove('angle')\n",
        "bands_s1.append('RGB')\n",
        "\n",
        "min = [-14, -25]\n",
        "max = [-7] * 2\n",
        "#-------------------\n",
        "for idx, a in enumerate(aois_geometry):\n",
        "  for jdx, b in enumerate(bands_s1):\n",
        "    path = folder_dataset +'/'+ aoi_names[idx] +'/'+ b\n",
        "    ExportCol_Sentinel1(path, a, b, min, max, jdx)"
      ],
      "metadata": {
        "id": "BIdwCq3Qek6C"
      },
      "execution_count": null,
      "outputs": []
    },
    {
      "cell_type": "code",
      "source": [
        "# delete\n",
        "for i, a in enumerate(aois):\n",
        "  print(i)\n",
        "  print(' ')\n",
        "  #print(a)\n",
        "\n",
        "bands_s1 = ffa_db.bandNames().getInfo()\n",
        "bands_s1.remove('angle')\n",
        "bands_s1.append('RGB')\n",
        "\n",
        "for jdx, b in enumerate(bands_s1):\n",
        "  print(b)"
      ],
      "metadata": {
        "colab": {
          "base_uri": "https://localhost:8080/"
        },
        "id": "RP3f0M1t_cPx",
        "outputId": "51516bdf-1ae5-4b7c-ff9c-9843d1cebcad"
      },
      "execution_count": null,
      "outputs": [
        {
          "output_type": "stream",
          "name": "stdout",
          "text": [
            "0\n",
            " \n",
            "VV\n",
            "VH\n",
            "RGB\n"
          ]
        }
      ]
    },
    {
      "cell_type": "markdown",
      "metadata": {
        "id": "yAO0MhD5YuZC"
      },
      "source": [
        "# Test of the RGB image using the 2 channels of the Sentinel-1"
      ]
    },
    {
      "cell_type": "code",
      "metadata": {
        "id": "Z8iPEdmkZPk0",
        "colab": {
          "base_uri": "https://localhost:8080/",
          "height": 193
        },
        "outputId": "58efe948-9b95-44dc-9d73-42d564b5ff9b"
      },
      "source": [
        "# Make an RGB color composite image (VV,VH,VV/VH).\n",
        "rgb = ee.Image.rgb(ffa_db.select('VV'),\n",
        "                   ffa_db.select('VH'),\n",
        "                   ffa_db.select('VV').divide(ffa_db.select('VH'))).getThumbURL({'min': [-14, -25, 0], 'max': [-7, -7, 3]})\n",
        "\n",
        "\n",
        "disp.Image(url=rgb, width = 300)"
      ],
      "execution_count": null,
      "outputs": [
        {
          "output_type": "execute_result",
          "data": {
            "text/html": [
              "<img src=\"https://earthengine.googleapis.com/v1alpha/projects/earthengine-legacy/thumbnails/6ad3fc352dd463ab4396099fdff59d09-9e53ff241851b49d5a93d57b087ef899:getPixels\" width=\"300\"/>"
            ],
            "text/plain": [
              "<IPython.core.display.Image object>"
            ]
          },
          "metadata": {},
          "execution_count": 63
        }
      ]
    },
    {
      "cell_type": "markdown",
      "source": [
        "# SENTINEL-2 testing ---------------------------------"
      ],
      "metadata": {
        "id": "vaEJfqhdnomQ"
      }
    },
    {
      "cell_type": "code",
      "source": [
        "aoi1 = ee.Geometry.Polygon(\n",
        "        [[[-8.48545509905759, 40.22345971261565],\n",
        "          [-8.48545509905759, 40.2128095274749],\n",
        "          [-8.461937490415012, 40.2128095274749],\n",
        "          [-8.461937490415012, 40.22345971261565]]],None,False)\n",
        "\n",
        "ffa_db2 = ee.Image(ee.ImageCollection('COPERNICUS/S2') \n",
        "                       .filterBounds(aoi1) \n",
        "                       .filterDate(ee.Date('2019-01-01'), ee.Date('2019-12-31')) \n",
        "                       .first()\n",
        "                       .clip(aoi1))\n",
        "\n",
        "ffa_s2 = ee.ImageCollection('COPERNICUS/S2') \\\n",
        "                       .filterBounds(aoi1) \\\n",
        "                       .filterDate(ee.Date('2017-01-01'), ee.Date('2023-12-31'))\n",
        "colList = ffa_s2.toList(30)\n",
        "\n",
        "\n",
        "img = ee.Image(colList.get(18)).double().clip(aoi1)\n",
        "\n",
        "rgb = ['B12']\n",
        "url = img.getThumbURL({\"min\":0, \"max\":2500,\"bands\":rgb})\n",
        "\n",
        "disp.Image(url=url, width = 300)"
      ],
      "metadata": {
        "id": "OvpS28rWnoRL",
        "colab": {
          "base_uri": "https://localhost:8080/",
          "height": 321
        },
        "outputId": "0f3a3161-7050-424e-dfda-6d1951da0658"
      },
      "execution_count": null,
      "outputs": [
        {
          "output_type": "execute_result",
          "data": {
            "text/html": [
              "<img src=\"https://earthengine.googleapis.com/v1alpha/projects/earthengine-legacy/thumbnails/468029121a1544f6dc9df8a770ec62d1-b57df621c405f44b23d438d778f96399:getPixels\" width=\"300\"/>"
            ],
            "text/plain": [
              "<IPython.core.display.Image object>"
            ]
          },
          "metadata": {},
          "execution_count": 50
        }
      ]
    },
    {
      "cell_type": "code",
      "source": [
        "aoi1 = ee.Geometry.Polygon(\n",
        "         [[[-8.471299278632037, 40.22244132271391],\n",
        "          [-8.471299278632037, 40.215199270092846],\n",
        "          [-8.460098373785845, 40.215199270092846],\n",
        "          [-8.460098373785845, 40.22244132271391]]],None,False)\n",
        "\n",
        "ffa_db2 = ee.Image(ee.ImageCollection('COPERNICUS/S2') \n",
        "                       .filterBounds(aoi1) \n",
        "                       .filterDate(ee.Date('2019-01-01'), ee.Date('2019-12-31')) \n",
        "                       .first()\n",
        "                       .clip(aoi1))\n",
        "\n",
        "ffa_s2 = ee.ImageCollection('COPERNICUS/S2') \\\n",
        "                       .filterBounds(aoi1) \\\n",
        "                       .filterDate(ee.Date('2017-01-01'), ee.Date('2023-12-31'))\n",
        "colList = ffa_s2.toList(30)\n",
        "\n",
        "\n",
        "img = ee.Image(colList.get(18)).double().clip(aoi1)\n",
        "\n",
        "rgb = ['B4','B3','B2']\n",
        "url = img.getThumbURL({\"min\":0, \"max\":2500,\"bands\":rgb})\n",
        "\n",
        "disp.Image(url=url, width = 300)"
      ],
      "metadata": {
        "id": "K2icXNDPHxK2"
      },
      "execution_count": null,
      "outputs": []
    },
    {
      "cell_type": "code",
      "source": [
        "ffa_db2.bandNames().getInfo()"
      ],
      "metadata": {
        "colab": {
          "base_uri": "https://localhost:8080/"
        },
        "id": "-RQxnKkHoBto",
        "outputId": "c4da86c2-c4f9-46d4-cc72-366606a7bb1c"
      },
      "execution_count": null,
      "outputs": [
        {
          "output_type": "execute_result",
          "data": {
            "text/plain": [
              "['B1',\n",
              " 'B2',\n",
              " 'B3',\n",
              " 'B4',\n",
              " 'B5',\n",
              " 'B6',\n",
              " 'B7',\n",
              " 'B8',\n",
              " 'B8A',\n",
              " 'B9',\n",
              " 'B10',\n",
              " 'B11',\n",
              " 'B12',\n",
              " 'QA10',\n",
              " 'QA20',\n",
              " 'QA60']"
            ]
          },
          "metadata": {},
          "execution_count": 69
        }
      ]
    },
    {
      "cell_type": "code",
      "source": [
        "rgb = ['B4','B3','B2']\n",
        "url = ffa_db2.getThumbURL({\"min\":0, \"max\":2500,\"bands\":rgb})\n",
        "\n",
        "disp.Image(url=url, width = 300)"
      ],
      "metadata": {
        "colab": {
          "base_uri": "https://localhost:8080/",
          "height": 191
        },
        "id": "1klALStyoQ9M",
        "outputId": "1e41ca7f-95ff-424a-bee1-d542bd720ade"
      },
      "execution_count": null,
      "outputs": [
        {
          "output_type": "execute_result",
          "data": {
            "text/html": [
              "<img src=\"https://earthengine.googleapis.com/v1alpha/projects/earthengine-legacy/thumbnails/5478d4469e65fdb540e4ec38dc8d52c4-f422d77db86ad78bf38aab5e382dd33b:getPixels\" width=\"300\"/>"
            ],
            "text/plain": [
              "<IPython.core.display.Image object>"
            ]
          },
          "metadata": {},
          "execution_count": 9
        }
      ]
    },
    {
      "cell_type": "markdown",
      "source": [
        "# Sentinel-2 request fucntion"
      ],
      "metadata": {
        "id": "D2MLEdd-NzaJ"
      }
    },
    {
      "cell_type": "code",
      "source": [
        "def ExportCol_Sentinel2(path, roi, channel,  min, max, n):\n",
        "  for i in range(0,nimgs,1):\n",
        "    try:\n",
        "      aoi_geometry = ee.Geometry.Polygon(roi ,None,False)\n",
        "      ffa_s = ee.ImageCollection('COPERNICUS/S2') \\\n",
        "                        .filterBounds(aoi_geometry) \\\n",
        "                        .filterDate(ee.Date(starting_date), ee.Date(ending_date))\n",
        "\n",
        "      colList = ffa_s.toList(ffa_s.size());                   \n",
        "\n",
        "      img = ee.Image(colList.get(i)).double().clip(aoi_geometry)\n",
        "      # Exeption beacause to get a RGB channel with the Sentinel-1 we need to correspond each channel and compute the last\n",
        "      if channel == 'RGB':\n",
        "        rgb = ['B4','B3','B2']\n",
        "        url = img.getThumbURL({\"min\":min[n], \"max\":max[n],\"bands\":rgb})\n",
        "      else:\n",
        "        url = img.getThumbURL({\"min\":min[n], \"max\":max[n],\"bands\":channel})\n",
        "\n",
        "      id = img.id().getInfo()\n",
        "      img_data = requests.get(url).content\n",
        "      # Decodes the image that comes in bytes and transforms into np.array() -> this np array can be used to know if we save or not the image\n",
        "      decoded = cv2.imdecode(np.frombuffer(img_data, np.uint8), -1)\n",
        "      # Creates the folder but the flag need to be turned off beacause it will try to makedir after the creation\n",
        "      try:\n",
        "        os.makedirs(path)\n",
        "        with open(path + '/' + id +'.jpg', 'wb') as handler:\n",
        "          handler.write(img_data)\n",
        "      except:\n",
        "        # This just saves the image in the correct folder with the name 'id' (var->'id')\n",
        "        with open(path + '/' + id +'.jpg', 'wb') as handler:\n",
        "          handler.write(img_data)\n",
        "    except:\n",
        "      return"
      ],
      "metadata": {
        "id": "o9wTE6-ZtG6k"
      },
      "execution_count": 8,
      "outputs": []
    },
    {
      "cell_type": "markdown",
      "source": [
        "Request"
      ],
      "metadata": {
        "id": "XB-0Y9ztN2Xx"
      }
    },
    {
      "cell_type": "code",
      "source": [
        "aoi_bands = ee.Geometry.Polygon(aoi[0],None,False)\n",
        "\n",
        "ffa_s2 = ee.Image(ee.ImageCollection('COPERNICUS/S2') \n",
        "                       .filterBounds(aoi_bands) \n",
        "                       .filterDate(ee.Date('2017-01-01'), ee.Date('2023-12-31')) \n",
        "                       .first() \n",
        "                       .clip(aoi_bands))\n",
        "\n",
        "bands_s2 = ffa_s2.bandNames().getInfo()\n",
        "aux_bands_s2 =  bands_s2.copy();\n",
        "for x in aux_bands_s2: \n",
        "  if x in  ['QA10','QA20','QA60','B10']: \n",
        "    bands_s2.remove(x) #bands_s2.remove(['QA10','QA20','QA60','B10'])\n",
        "bands_s2.append('RGB')\n",
        "\n",
        "# Defined best values for these bands\n",
        "min = [0] * len(bands_s2)\n",
        "max = [2700, 3000, 3000, 3000, 3000, 3000, 3000, 3000, 3000, 2000, 3200, 2500, 3000]\n",
        "\n",
        "for idx, a in enumerate(aoi):\n",
        "  for jdx, b in enumerate(bands_s2):\n",
        "    path = folder_dataset +'/'+ aoi_names[idx] +'/'+ 'Sentinel-2/' + b\n",
        "    ExportCol_Sentinel2(path, a, b, min, max, jdx)"
      ],
      "metadata": {
        "id": "04Sa6mrIuHR_"
      },
      "execution_count": 9,
      "outputs": []
    },
    {
      "cell_type": "markdown",
      "source": [
        "# Testing the best range for the bands, min and max, Sentinel-2"
      ],
      "metadata": {
        "id": "bhsrmNhOPUZF"
      }
    },
    {
      "cell_type": "code",
      "source": [
        "aoi_test = ee.Geometry.Polygon(\n",
        "        [[[-8.55251498879442, 40.24180169042327],\n",
        "          [-8.55251498879442, 40.208117730174855],\n",
        "          [-8.451578099145982, 40.208117730174855],\n",
        "          [-8.451578099145982, 40.24180169042327]]],None,False)\n",
        "\n",
        "ffa_s2_test = ee.ImageCollection('COPERNICUS/S2') \\\n",
        "                       .filterBounds(aoi_test) \\\n",
        "                       .filterDate(ee.Date('2019-01-01'), ee.Date('2019-12-31'))\n",
        "colList = ffa_s2.toList(10)\n",
        "\n",
        "ffa_db2_test = ee.Image(ee.ImageCollection('COPERNICUS/S2') \n",
        "                       .filterBounds(aoi_test) \n",
        "                       .filterDate(ee.Date('2019-01-01'), ee.Date('2019-12-31')) \n",
        "                       .first()\n",
        "                       .clip(aoi_test))\n",
        "\n",
        "img = ee.Image(colList.get(0)).double().clip(aoi_test)\n",
        "\n",
        "#rgb = ['B4','B3','B2']\n",
        "#url = ffa_db2_test.getThumbURL({\"min\":0, \"max\":3000,\"bands\":rgb})\n",
        "\n",
        "url = img.select('QA60').getThumbURL({'min': -50, 'max': 50})\n",
        "disp.Image(url=url, width = 700)"
      ],
      "metadata": {
        "colab": {
          "base_uri": "https://localhost:8080/",
          "height": 366
        },
        "id": "NHXTG4UOPXX5",
        "outputId": "23dd0bbd-6456-4605-b239-e6a65c20d004"
      },
      "execution_count": null,
      "outputs": [
        {
          "output_type": "execute_result",
          "data": {
            "text/html": [
              "<img src=\"https://earthengine.googleapis.com/v1alpha/projects/earthengine-legacy/thumbnails/3697929fa1428c1c47c707f2afb7121c-ffa406e484621de114dfa6f6c71cbd07:getPixels\" width=\"700\"/>"
            ],
            "text/plain": [
              "<IPython.core.display.Image object>"
            ]
          },
          "metadata": {},
          "execution_count": 155
        }
      ]
    },
    {
      "cell_type": "code",
      "source": [
        "bands_s2 = ffa_db2.bandNames().getInfo()\n",
        "aux =  bands_s2.copy();\n",
        "for x in aux:\n",
        "  if x in ['QA20','QA10','QA60','B10']:\n",
        "    bands_s2.remove(x) #bands_s2.remove(['QA10','QA20','QA60','B10'])\n",
        "bands_s2.append('RGB')\n",
        "\n",
        "min = [0] * len(bands_s2)\n",
        "max = [2700, 3000, 3000, 3000, 3000, 3000, 3000, 3000, 3000, 2000, 3200, 2500, 3000]\n",
        "print(len(max))\n",
        "print(len(min))\n",
        "print(bands_s2)"
      ],
      "metadata": {
        "colab": {
          "base_uri": "https://localhost:8080/"
        },
        "id": "obhzgcr2D7io",
        "outputId": "04d5e5b2-069e-4764-8ba3-9ce7cb44f32e"
      },
      "execution_count": null,
      "outputs": [
        {
          "output_type": "stream",
          "name": "stdout",
          "text": [
            "13\n",
            "13\n",
            "['B1', 'B2', 'B3', 'B4', 'B5', 'B6', 'B7', 'B8', 'B8A', 'B9', 'B11', 'B12', 'RGB']\n"
          ]
        }
      ]
    },
    {
      "cell_type": "code",
      "source": [
        "aoi1 = ee.Geometry.Polygon(aoi[0],None,False)\n",
        "\n",
        "ffa_s = ee.ImageCollection('COPERNICUS/S1_GRD') \\\n",
        "                       .filterBounds(aoi1) \\\n",
        "                       .filterDate(ee.Date('2022-01-07'), ee.Date('2022-04-07'))\n",
        "\n",
        "colList = ffa_s.toList(ffa_s.size());       \n",
        "\n",
        "i = 1330\n",
        "img = ee.Image(colList.get(i)).double().clip(aoi1)\n",
        "\n",
        "#id = img.id().getInfo()\n",
        "\n"
      ],
      "metadata": {
        "id": "0so9kB3uOdFR"
      },
      "execution_count": 13,
      "outputs": []
    },
    {
      "cell_type": "code",
      "source": [
        "aoi1 = ee.Geometry.Polygon(\n",
        "        [[[-8.48545509905759, 40.22345971261565],\n",
        "          [-8.48545509905759, 40.2128095274749],\n",
        "          [-8.461937490415012, 40.2128095274749],\n",
        "          [-8.461937490415012, 40.22345971261565]]],None,False)\n",
        "\n",
        "ffa_db2 = ee.Image(ee.ImageCollection('COPERNICUS/S2') \n",
        "                       .filterBounds(aoi1)\n",
        "                       .filterDate(ee.Date('2017-09-02'), ee.Date('2023-12-31'))\n",
        "                       .first()\n",
        "                       .clip(aoi1))\n",
        "\n",
        "ffa_s2 = ee.ImageCollection('COPERNICUS/S2') \\\n",
        "                       .filterBounds(aoi1) \\\n",
        "                       .filterDate(ee.Date('2017-01-01'), ee.Date('2023-12-31'))\\\n",
        "                       .filter(ee.Filter.lt('CLOUDY_PIXEL_PERCENTAGE', 20))\n",
        "                       \n",
        "colList = ffa_s2#.toList(30)\n",
        "\n",
        "\n",
        "img = ee.Image(colList.get(21)).double().clip(aoi1)\n",
        "\n",
        "img = ffa_db2\n",
        "\n",
        "rgb = ['B4','B3','B2']\n",
        "url = img.getThumbURL({\"min\":0, \"max\":2500,\"bands\":rgb})\n",
        "img_data = requests.get(url).content\n",
        "\n",
        "\n",
        "decoded = cv2.imdecode(np.frombuffer(img_data, np.uint8), -1)\n",
        "\n",
        "plt.imshow(decoded)\n",
        "plt.axis(\"off\")\n",
        "plt.show()\n",
        "\n",
        "print(type(img_data))\n",
        "  print(np.mean(decoded))\n",
        "#disp.Image(url=url, width = 300)"
      ],
      "metadata": {
        "id": "MRSpgs5nlbHq",
        "outputId": "52bb1a37-b8fc-48de-ddfd-35ca24b95514",
        "colab": {
          "base_uri": "https://localhost:8080/",
          "height": 366
        }
      },
      "execution_count": 131,
      "outputs": [
        {
          "output_type": "display_data",
          "data": {
            "text/plain": [
              "<Figure size 640x480 with 1 Axes>"
            ],
            "image/png": "[encoded data removed]"
          },
          "metadata": {}
        },
        {
          "output_type": "stream",
          "name": "stdout",
          "text": [
            "<class 'bytes'>\n",
            "132.30826113861386\n"
          ]
        }
      ]
    },
    {
      "cell_type": "code",
      "source": [
        "import time\n",
        "\n",
        "start = time.time()\n",
        "\n",
        "img = ee.Image(ee.ImageCollection('COPERNICUS/S2') \n",
        "                       .filterBounds(aoi1)\n",
        "                       .filterDate(ee.Date('2017-09-02'), ee.Date('2023-12-31'))\n",
        "                       .first()\n",
        "                       .clip(aoi1))\n",
        "\n",
        "rgb = ['B4','B3','B2']\n",
        "url = img.getThumbURL({\"min\":0, \"max\":2500,\"bands\":rgb})\n",
        "img_data = requests.get(url).content\n",
        "\n",
        "decoded = cv2.imdecode(np.frombuffer(img_data, np.uint8), -1)\n",
        "print(np.mean(decoded))\n",
        "end = time.time()\n",
        "print(end - start)"
      ],
      "metadata": {
        "id": "EZYcW9fD1VE9",
        "outputId": "b4e37c6d-f0c7-4ab9-a45e-f1c26da904a1",
        "colab": {
          "base_uri": "https://localhost:8080/"
        }
      },
      "execution_count": 137,
      "outputs": [
        {
          "output_type": "stream",
          "name": "stdout",
          "text": [
            "132.30826113861386\n",
            "1.8802001476287842\n"
          ]
        }
      ]
    }
  ]
}